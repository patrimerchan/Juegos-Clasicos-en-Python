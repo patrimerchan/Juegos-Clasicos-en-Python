{
 "cells": [
  {
   "cell_type": "markdown",
   "id": "d217f3f2",
   "metadata": {},
   "source": [
    "## Acuerdos del grupo\n",
    "- Cada cierto tiempo cambiará el Scrum Master por el siguiente orden:\n",
    "    - Gisela\n",
    "    - Ariana\n",
    "    - Violeta\n",
    "    - Patricia\n",
    "    - Elena\n",
    "\n",
    "- Hacer el daily todos los días (5 minutos)\n"
   ]
  },
  {
   "cell_type": "markdown",
   "id": "45a53537",
   "metadata": {},
   "source": [
    "## Reparto de juegos\n",
    "- Piedra Papel o Tijera --> Violeta, Gisela, Elena\n",
    "- Juego de preguntas y respuestas --> Patricia, Ariana\n",
    "- Ahorcado\n",
    "\n",
    "- Bonus: Tic Tac Toe (3 en línea)"
   ]
  }
 ],
 "metadata": {
  "language_info": {
   "name": "python"
  }
 },
 "nbformat": 4,
 "nbformat_minor": 5
}
