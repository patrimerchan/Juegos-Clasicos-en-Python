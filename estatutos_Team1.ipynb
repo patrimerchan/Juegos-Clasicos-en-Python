{
 "cells": [
  {
   "cell_type": "markdown",
   "id": "d217f3f2",
   "metadata": {},
   "source": [
    "## Acuerdos del grupo"
   ]
  },
  {
   "cell_type": "markdown",
   "id": "627d1898",
   "metadata": {},
   "source": [
    "- Cada cierto tiempo cambiará el Scrum Master por el siguiente orden:\n",
    "    - Gisela\n",
    "    - Ariana\n",
    "    - Violeta\n",
    "    - Patricia\n",
    "    - Elena\n",
    "\n",
    "- Hacer el daily todos los días"
   ]
  },
  {
   "cell_type": "markdown",
   "id": "45a53537",
   "metadata": {},
   "source": [
    "## Reparto de juegos"
   ]
  },
  {
   "cell_type": "markdown",
   "id": "4b2f255d",
   "metadata": {},
   "source": [
    "Piedra Papel o Tijera --> Violeta, Gisela\n",
    "Juego de preguntas y respuestas --> Patricia, Ariana\n",
    "Ahorcado\n",
    "Bonus: Tic Tac Toe"
   ]
  }
 ],
 "metadata": {
  "language_info": {
   "name": "python"
  }
 },
 "nbformat": 4,
 "nbformat_minor": 5
}
