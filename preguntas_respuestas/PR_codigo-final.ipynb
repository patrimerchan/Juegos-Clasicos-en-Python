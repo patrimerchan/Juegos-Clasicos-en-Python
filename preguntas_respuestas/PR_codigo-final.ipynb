{
 "cells": [
  {
   "cell_type": "markdown",
   "id": "399d3036",
   "metadata": {},
   "source": [
    "#### CONSULTA CON CESAR"
   ]
  },
  {
   "cell_type": "code",
   "execution_count": null,
   "id": "1487643b",
   "metadata": {},
   "outputs": [],
   "source": [
    "dic_historia = {'Rey de España':'Felipe VI', 'Rey de Inglaterra':'Guillermo'}\n",
    "\n",
    "pregunta_aleatoria = random.choice(list(dic_historia.keys()))\n",
    "print(pregunta_aleatoria)\n",
    "\n",
    "respuesta = input(f'{pregunta_aleatoria}')\n",
    "print(respuesta)\n",
    "\n",
    "if respuesta == dic_historia[pregunta_aleatoria]:\n",
    "  print('has acertado')\n",
    "else:\n",
    "  print('has fallado')"
   ]
  },
  {
   "cell_type": "code",
   "execution_count": 5,
   "id": "0ccd5d9c",
   "metadata": {},
   "outputs": [],
   "source": [
    "# Crear el diccionario de preguntas tipo:\n",
    "#. {'Pregunta y opciones de respuestas' : 'respuesta_correcta'}"
   ]
  },
  {
   "cell_type": "code",
   "execution_count": 8,
   "id": "d6729c3e",
   "metadata": {},
   "outputs": [
    {
     "name": "stdout",
     "output_type": "stream",
     "text": [
      "{'¿Cual es la capital de España? (A)Bilbao, (B)Sevilla, (C)Madrid, (D)Barcelona': 'C', '¿Quien es el Rey de España? (A)Felipe, (B)Alfonso, (C)Juan Carlos, (D)Amadeo': 'A'}\n"
     ]
    }
   ],
   "source": [
    "dic_preguntas = {'¿Cual es la capital de España? (A)Bilbao, (B)Sevilla, (C)Madrid, (D)Barcelona':'C', '¿Quien es el Rey de España? (A)Felipe, (B)Alfonso, (C)Juan Carlos, (D)Amadeo':'A'}\n",
    "\n",
    "print(dic_preguntas)"
   ]
  },
  {
   "cell_type": "code",
   "execution_count": 12,
   "id": "2d37a2df",
   "metadata": {},
   "outputs": [
    {
     "ename": "SyntaxError",
     "evalue": "invalid syntax (4053862236.py, line 9)",
     "output_type": "error",
     "traceback": [
      "\u001b[0;36m  Cell \u001b[0;32mIn[12], line 9\u001b[0;36m\u001b[0m\n\u001b[0;31m    if dic_preguntas[pregunta_aleatoria] == dic_preguntas.keys[pregunta_aleatoria]\u001b[0m\n\u001b[0m                                                                                  ^\u001b[0m\n\u001b[0;31mSyntaxError\u001b[0m\u001b[0;31m:\u001b[0m invalid syntax\n"
     ]
    }
   ],
   "source": [
    "Jugador1 = 0\n",
    "\n",
    "dict.key\n",
    "dic_preguntas = {'¿Cual es la capital de España? (A)Bilbao, (B)Sevilla, (C)Madrid, (D)Barcelona':'C', '¿Quien es el Rey de España? (A)Felipe, (B)Alfonso, (C)Juan Carlos, (D)Amadeo':'A'}\n",
    "\n",
    "\n",
    "pregunta_aleatoria = random.choice(list(dic_preguntas.keys()))\n",
    "\n",
    "if dic_preguntas[pregunta_aleatoria] == dic_preguntas.keys[pregunta_aleatoria]\n",
    "    print('Has acertado! ENHORABUENA')\n",
    "    Jugador1 += 1\n",
    "\n",
    "    print('Puntos Jugador 1:', Jugador1)\n",
    "else:\n",
    "    print('Jugador 1 y Jugador 2, han fallado!')\n",
    "    Jugador1 += 0\n",
    "    print('Puntos Jugador 1:', Jugador1)"
   ]
  },
  {
   "cell_type": "code",
   "execution_count": null,
   "id": "3119dfb7",
   "metadata": {},
   "outputs": [],
   "source": []
  }
 ],
 "metadata": {
  "kernelspec": {
   "display_name": "Python 3",
   "language": "python",
   "name": "python3"
  },
  "language_info": {
   "codemirror_mode": {
    "name": "ipython",
    "version": 3
   },
   "file_extension": ".py",
   "mimetype": "text/x-python",
   "name": "python",
   "nbconvert_exporter": "python",
   "pygments_lexer": "ipython3",
   "version": "3.9.6"
  }
 },
 "nbformat": 4,
 "nbformat_minor": 5
}
