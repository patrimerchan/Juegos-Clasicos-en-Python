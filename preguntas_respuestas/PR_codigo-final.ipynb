{
 "cells": [
  {
   "cell_type": "markdown",
   "id": "399d3036",
   "metadata": {},
   "source": [
    "### CÓDIGO FINAL\n",
    "##### JUEGO PREGUNTAS & RESPUESTAS"
   ]
  },
  {
   "cell_type": "code",
   "execution_count": null,
   "id": "9f048659",
   "metadata": {},
   "outputs": [],
   "source": [
    "puntos = 0\n",
    "\n",
    "dic_preguntas = {'¿Cual es la capital de España? (A)Bilbao, (B)Sevilla, (C)Madrid, (D)Barcelona':'C', '¿Quien es el Rey de España? (A)Felipe, (B)Alfonso, (C)Juan Carlos, (D)Amadeo':'A'}\n",
    "\n",
    "\n",
    "for p_aleatoria in dic_preguntas:\n",
    "\n",
    "    p_aleatoria = random.choice(list(dic_preguntas.keys()))\n",
    "    print(p_aleatoria)\n",
    "\n",
    "    respuesta = input(f'{p_aleatoria}')\n",
    "    print(respuesta)\n",
    "\n",
    "    if respuesta.upper() == dic_preguntas[p_aleatoria]:\n",
    "        print('Has acertado! ENHORABUENA')\n",
    "        puntos += 1\n",
    "        print('Puntos:', puntos)\n",
    "        \n",
    "    else:\n",
    "        print('Mala suerte... has fallado!')\n",
    "        puntos += 0\n",
    "        print('Puntos:', puntos)"
   ]
  }
 ],
 "metadata": {
  "kernelspec": {
   "display_name": "Python 3",
   "language": "python",
   "name": "python3"
  },
  "language_info": {
   "codemirror_mode": {
    "name": "ipython",
    "version": 3
   },
   "file_extension": ".py",
   "mimetype": "text/x-python",
   "name": "python",
   "nbconvert_exporter": "python",
   "pygments_lexer": "ipython3",
   "version": "3.9.6"
  }
 },
 "nbformat": 4,
 "nbformat_minor": 5
}
