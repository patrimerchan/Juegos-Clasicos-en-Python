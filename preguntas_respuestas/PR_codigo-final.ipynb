{
 "cells": [
  {
   "cell_type": "markdown",
   "id": "399d3036",
   "metadata": {},
   "source": [
    "## PREGUNTAS & RESPUESTAS"
   ]
  },
  {
   "cell_type": "markdown",
   "id": "9546bd3b",
   "metadata": {},
   "source": [
    "#### CÓDIGO FINAL"
   ]
  },
  {
   "cell_type": "code",
   "execution_count": 6,
   "id": "7f29ca02",
   "metadata": {},
   "outputs": [],
   "source": [
    "import random"
   ]
  },
  {
   "cell_type": "code",
   "execution_count": 8,
   "id": "9f048659",
   "metadata": {},
   "outputs": [
    {
     "name": "stdout",
     "output_type": "stream",
     "text": [
      "\n",
      "🎯 ¡Bienvenida al juego Preguntas y Respuestas!\n",
      "----------------------\n",
      "¿Qué personaje de Disney perdió un zapato de cristal? (A) Blancanieves | (B) Ariel | (C) Bella | (D) Cenicienta\n",
      "Tu respuesta es: (D)\n",
      "¡Has acertado! ENHORABUENA 🥳\n",
      "Puntos: 1\n",
      "----------------------\n",
      "¿Cuál es la capital de España? (A) Bilbao | (B) Sevilla | (C) Madrid | (D) Barcelona\n",
      "Tu respuesta es: (B)\n",
      "Mala suerte... ¡has fallado! 💥\n",
      "La respuesta correcta era: (C)\n",
      "Puntos: 1\n",
      "----------------------\n",
      "¿De qué fruta se obtiene el vino? (A) Manzana | (B) Uva | (C) Naranja | (D) Pera\n",
      "Tu respuesta es: (B)\n",
      "¡Has acertado! ENHORABUENA 🥳\n",
      "Puntos: 2\n",
      "----------------------\n",
      "En el lenguaje Python ¿cómo podemos saber las keys de nuestro diccionario? (A) .keys() | (B) .key() | (C) No lo podremos saber nunca | (D) .keys\n",
      "Tu respuesta es: (A)\n",
      "¡Eres una genia! 🤩\n",
      "Puntos: 3\n",
      "----------------------\n",
      "¿Quién pintó la famosa obra de arte \"La Mona Lisa\"? (A) Pablo Picasso | (B) Vincent van Gogh | (C) Leonardo da Vinci | (D) Claude Monet\n",
      "Tu respuesta es: (C)\n",
      "¡Has acertado! ENHORABUENA 🥳\n",
      "Puntos: 4\n",
      "----------------------\n",
      "\n",
      "✅ ¡Partida terminada! Tu puntuación final es: 4 puntos.\n",
      "----------------------\n",
      "👋 ¡Gracias por jugar!\n"
     ]
    }
   ],
   "source": [
    "puntos = 0\n",
    "\n",
    "dic_preguntas = {'¿Cuál es la capital de España? (A) Bilbao | (B) Sevilla | (C) Madrid | (D) Barcelona':'C', '¿Quién es el Rey de España? (A) Felipe | (B) Alfonso | (C) Juan Carlos | (D) Amadeo':'A', '¿Qué palabra clave se usa para definir una función en Python? (A) function | (B) fun | (C) def | (D) define':'C', '¿Qué estructura de datos es inmutable en Python? (A) Lista | (B) Diccionario | (C) Tupla | (D) Conjunto':'C', '¿Qué país es famoso por la Torre Eiffel? (A) Italia | (B) Francia | (C) Alemania | (D) Reino Unido':'B', '¿Qué personaje de Disney perdió un zapato de cristal? (A) Blancanieves | (B) Ariel | (C) Bella | (D) Cenicienta':'D', '¿Cuántas caras tiene un cubo? (A) Cuatro | (B) Seis | (C) Ocho | (D) Diez':'B', '¿Cuál es la función principal de un Analista de Datos? (A) Escribir correos electrónicos | (B) Traducir datos complejos en información útil | (C) Entrenar a nuevos empleados | (D) Diseñar una página web de la empresa':'B', 'En el lenguaje Python ¿cómo podemos saber las keys de nuestro diccionario? (A) .keys() | (B) .key() | (C) No lo podremos saber nunca | (D) .keys':'A', '¿Cuántos días tiene un año bisiesto? (A) 365 | (B) 366 | (C) 364 | (D) 367':'B', '¿Qué animal es conocido como \"el rey de la selva\"? (A) Tigre | (B) Elefante | (C) León | (D) Oso':'C', '¿De qué fruta se obtiene el vino? (A) Manzana | (B) Uva | (C) Naranja | (D) Pera':'B', '¿Cuál es la capital de Italia? (A) París | (B) Madrid | (C) Berlín | (D) Roma':'D', '¿Cuál es el color primario que se obtiene al mezclar azul y amarillo? (A) Verde | (B) Blanco | (C) Rojo | (D) Morado':'A', '¿Cuál es el satélite natural de la Tierra? (A) Fobos | (B) La Luna | (C) Europa | (D) Sol':'B', '¿Qué metal es líquido a temperatura ambiente? (A) Plata | (B) Oro | (C) Mercurio | (D) Plomo':'C', '¿Quién pintó la famosa obra de arte \"La Mona Lisa\"? (A) Pablo Picasso | (B) Vincent van Gogh | (C) Leonardo da Vinci | (D) Claude Monet':'C', '¿Cuál es el nombre del personaje que vive en un cubo de piña en el fondo del mar? (A) Patricio Estrella | (B) Calamardo Tentáculos | (C) Don Cangrejo | (D) Bob Esponja':'D', '¿Qué fenómeno natural resulta de la rotación de la Tierra sobre su propio eje? (A) El día y la noche | (B) Las estaciones del año | (C) Los eclipses | (D) Las mareas':'A', '¿Qué insecto puede levantar 50 veces su propio peso? (A) Hormiga | (B) Saltamontes | (C) Araña | (D) Escarabajo':'A'}\n",
    "felicitar = [\"¡Tú lo sabes todo! 🙌🏼\", \"¡Has acertado! ENHORABUENA 🥳\", \"¡Eres una genia! 🤩\"]\n",
    "fallo = [\"Mala suerte... ¡has fallado! 💥\", \"¡Ánimo, lo puedes hacer mejor! 🚀\", \"Inténtalo de nuevo 🤞\"]\n",
    "\n",
    "seguir_jugando = True\n",
    "\n",
    "\n",
    "def separador():\n",
    "    print(\"----------------------\")\n",
    "\n",
    "while seguir_jugando:\n",
    "    puntos = 0\n",
    "    copy_preguntas = dic_preguntas.copy()\n",
    "    \n",
    "    print(\"\\n🎯 ¡Bienvenida al juego Preguntas y Respuestas!\")\n",
    "    separador()\n",
    "\n",
    "    for i in range(5):\n",
    "\n",
    "        p_aleatoria = random.choice(list(copy_preguntas.keys()))\n",
    "        print(p_aleatoria)\n",
    "        copy_preguntas.pop(p_aleatoria)\n",
    "\n",
    "        respuesta = input(f'{p_aleatoria}')\n",
    "        print(f'Tu respuesta es: ({respuesta.upper()})')\n",
    "\n",
    "        if respuesta.upper() == dic_preguntas[p_aleatoria]:\n",
    "            felic_aleatoria = random.choice(felicitar)\n",
    "            print(felic_aleatoria)\n",
    "            puntos += 1\n",
    "            print('Puntos:', puntos)\n",
    "            separador()\n",
    "\n",
    "        else:\n",
    "            fallo_aleatoria = random.choice(fallo)\n",
    "            print(fallo_aleatoria)\n",
    "            puntos += 0\n",
    "            respuesta_correcta = dic_preguntas[p_aleatoria]\n",
    "            print(f\"La respuesta correcta era: ({respuesta_correcta})\") \n",
    "            print('Puntos:', puntos)\n",
    "            separador()\n",
    "    \n",
    "    print(f\"\\n✅ ¡Partida terminada! Tu puntuación final es: {puntos} puntos.\") \n",
    "    separador() \n",
    "\n",
    "    opcion = input(\"¿Quieres jugar otra vez? (S/N): \").upper()\n",
    "\n",
    "    if opcion == \"S\":\n",
    "        seguir_jugando = True\n",
    "        print(\"\\n✨ ¡Comienza una nueva ronda!\")\n",
    "\n",
    "    elif opcion == \"N\":\n",
    "        print(\"👋 ¡Gracias por jugar!\")\n",
    "        seguir_jugando = False \n",
    "\n",
    "    else:\n",
    "        print('❌ Opción no válida. Juego terminado.')\n",
    "        seguir_jugando = False \n",
    "        \n",
    "    "
   ]
  }
 ],
 "metadata": {
  "kernelspec": {
   "display_name": "base",
   "language": "python",
   "name": "python3"
  },
  "language_info": {
   "codemirror_mode": {
    "name": "ipython",
    "version": 3
   },
   "file_extension": ".py",
   "mimetype": "text/x-python",
   "name": "python",
   "nbconvert_exporter": "python",
   "pygments_lexer": "ipython3",
   "version": "3.13.5"
  }
 },
 "nbformat": 4,
 "nbformat_minor": 5
}
