{
 "cells": [
  {
   "cell_type": "markdown",
   "id": "399d3036",
   "metadata": {},
   "source": [
    "### CÓDIGO FINAL\n",
    "##### JUEGO PREGUNTAS & RESPUESTAS"
   ]
  },
  {
   "cell_type": "code",
   "execution_count": 28,
   "id": "7f29ca02",
   "metadata": {},
   "outputs": [],
   "source": [
    "import random"
   ]
  },
  {
   "cell_type": "code",
   "execution_count": 31,
   "id": "9f048659",
   "metadata": {},
   "outputs": [
    {
     "name": "stdout",
     "output_type": "stream",
     "text": [
      "¿Quien es el Rey de España? (A)Felipe, (B)Alfonso, (C)Juan Carlos, (D)Amadeo\n",
      "a\n",
      "Has acertado! ENHORABUENA\n",
      "Puntos: 1\n",
      "¿Cuántas caras tiene un cubo? (A) Cuatro, (B) Seis, (C) Ocho, (D) Diez\n",
      "b\n",
      "Has acertado! ENHORABUENA\n",
      "Puntos: 2\n",
      "¿Qué personaje de Disney perdió un zapato de cristal? (A) Blancanieves, (B) Ariel, (C) Bella, (D) Cenicienta\n",
      "d\n",
      "Has acertado! ENHORABUENA\n",
      "Puntos: 3\n",
      "¿Qué país es famoso por la Torre Eiffel? (A) Italia, (B) Francia, (C) Alemania, (D) Reino Unido\n",
      "b\n",
      "Has acertado! ENHORABUENA\n",
      "Puntos: 4\n",
      "¿Qué palabra clave se usa para definir una función en Python? (A) function, (B) fun, (C) def, (D) define\n",
      "c\n",
      "Has acertado! ENHORABUENA\n",
      "Puntos: 5\n"
     ]
    }
   ],
   "source": [
    "puntos = 0\n",
    "\n",
    "dic_preguntas = {'¿Cual es la capital de España? (A)Bilbao, (B)Sevilla, (C)Madrid, (D)Barcelona':'C', '¿Quien es el Rey de España? (A)Felipe, (B)Alfonso, (C)Juan Carlos, (D)Amadeo':'A', '¿Qué palabra clave se usa para definir una función en Python? (A) function, (B) fun, (C) def, (D) define':'C', '¿Qué estructura de datos es inmutable en Python? (A) Lista, (B) Diccionario, (C) Tupla, (D) Conjunto':'C', '¿Qué país es famoso por la Torre Eiffel? (A) Italia, (B) Francia, (C) Alemania, (D) Reino Unido':'B', '¿Qué personaje de Disney perdió un zapato de cristal? (A) Blancanieves, (B) Ariel, (C) Bella, (D) Cenicienta':'D', '¿Cuántas caras tiene un cubo? (A) Cuatro, (B) Seis, (C) Ocho, (D) Diez':'B', '¿Cuál es la función principal de un Analista de Datos? (A) Escribir correos electrónicos, (B) Traducir datos complejos en información útil, (C) Entrenar a nuevos empleados, (D) Diseñar una página web de la empresa':'B', 'En el lenguaje Python ¿cómo podemos saber las keys de nuestro diccionario? (A) .keys(), (B) .key(), (C) No lo podremos saber nunca, (D) .keys':'A'}\n",
    "copy_preguntas = dic_preguntas.copy()\n",
    "\n",
    "for i in range(5):\n",
    "\n",
    "    p_aleatoria = random.choice(list(copy_preguntas.keys()))\n",
    "    print(p_aleatoria)\n",
    "    copy_preguntas.pop(p_aleatoria)\n",
    "\n",
    "    respuesta = input(f'{p_aleatoria}')\n",
    "    print(respuesta)\n",
    "\n",
    "    if respuesta.upper() == dic_preguntas[p_aleatoria]:\n",
    "        print('Has acertado! ENHORABUENA')\n",
    "        puntos += 1\n",
    "        print('Puntos:', puntos)\n",
    "\n",
    "        \n",
    "    else:\n",
    "        print('Mala suerte... has fallado!')\n",
    "        puntos += 0\n",
    "        print('Puntos:', puntos)"
   ]
  }
 ],
 "metadata": {
  "kernelspec": {
   "display_name": "Python 3",
   "language": "python",
   "name": "python3"
  },
  "language_info": {
   "codemirror_mode": {
    "name": "ipython",
    "version": 3
   },
   "file_extension": ".py",
   "mimetype": "text/x-python",
   "name": "python",
   "nbconvert_exporter": "python",
   "pygments_lexer": "ipython3",
   "version": "3.9.6"
  }
 },
 "nbformat": 4,
 "nbformat_minor": 5
}
