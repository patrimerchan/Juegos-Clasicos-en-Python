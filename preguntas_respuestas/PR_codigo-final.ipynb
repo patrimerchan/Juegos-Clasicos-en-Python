{
 "cells": [
  {
   "cell_type": "markdown",
   "id": "399d3036",
   "metadata": {},
   "source": [
    "#### CONSULTA CON CESAR"
   ]
  },
  {
   "cell_type": "code",
   "execution_count": null,
   "id": "1487643b",
   "metadata": {},
   "outputs": [],
   "source": [
    "dic_historia = {'Rey de España':'Felipe VI', 'Rey de Inglaterra':'Guillermo'}\n",
    "\n",
    "pregunta_aleatoria = random.choice(list(dic_historia.keys()))\n",
    "print(pregunta_aleatoria)\n",
    "\n",
    "respuesta = input(f'{pregunta_aleatoria}')\n",
    "print(respuesta)\n",
    "\n",
    "if respuesta == dic_historia[pregunta_aleatoria]:\n",
    "  print('has acertado')\n",
    "else:\n",
    "  print('has fallado')"
   ]
  },
  {
   "cell_type": "code",
   "execution_count": null,
   "id": "2d37a2df",
   "metadata": {},
   "outputs": [
    {
     "ename": "SyntaxError",
     "evalue": "invalid syntax (1769953186.py, line 6)",
     "output_type": "error",
     "traceback": [
      "\u001b[0;36m  Cell \u001b[0;32mIn[1], line 6\u001b[0;36m\u001b[0m\n\u001b[0;31m    if Preguntas.upper() == 'C'\u001b[0m\n\u001b[0m                               ^\u001b[0m\n\u001b[0;31mSyntaxError\u001b[0m\u001b[0;31m:\u001b[0m invalid syntax\n"
     ]
    }
   ],
   "source": [
    "Jugador1 = 0\n",
    "\n",
    "Preguntas = input('¿Cual es la capital de España? (A)Bilbao, (B)Sevilla, (C)Madrid, (D)Barcelona')\n",
    "\n",
    "##crear diccionario de preguntas\n",
    "\n",
    "\n",
    "\n",
    "if Preguntas.upper() == 'C'\n",
    "    print('Has acertado! ENHORABUENA')\n",
    "    Jugador1 += 1\n",
    "\n",
    "    print('Puntos Jugador 1:', Jugador1)\n",
    "else:\n",
    "    print('Jugador 1 y Jugador 2, han fallado!')\n",
    "    Jugador1 += 0\n",
    "    print('Puntos Jugador 1:', Jugador1)"
   ]
  }
 ],
 "metadata": {
  "kernelspec": {
   "display_name": "Python 3",
   "language": "python",
   "name": "python3"
  },
  "language_info": {
   "codemirror_mode": {
    "name": "ipython",
    "version": 3
   },
   "file_extension": ".py",
   "mimetype": "text/x-python",
   "name": "python",
   "nbconvert_exporter": "python",
   "pygments_lexer": "ipython3",
   "version": "3.9.6"
  }
 },
 "nbformat": 4,
 "nbformat_minor": 5
}
