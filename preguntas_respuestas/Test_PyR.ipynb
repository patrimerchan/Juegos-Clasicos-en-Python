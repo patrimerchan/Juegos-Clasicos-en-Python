{
 "cells": [
  {
   "cell_type": "code",
   "execution_count": null,
   "id": "20c93484",
   "metadata": {},
   "outputs": [],
   "source": []
  },
  {
   "cell_type": "code",
   "execution_count": 23,
   "id": "38e4a98c",
   "metadata": {},
   "outputs": [
    {
     "name": "stdout",
     "output_type": "stream",
     "text": [
      "Jugador 2, has acertado!\n",
      "Jugador 1, mala suerte!\n",
      "Puntos Jugador 1: 6\n",
      "Puntos Jugador 2: 10\n"
     ]
    }
   ],
   "source": [
    "puntos_J1 = 0\n",
    "puntos_J2 = 0\n",
    "\n",
    "R1_J1 = input('¿Cual es la capital de España? (A)Bilbao, (B)Sevilla, (C)Madrid, (D)Barcelona')\n",
    "R1_J2 = input('¿Cual es la capital de España? (A)Bilbao, (B)Sevilla, (C)Madrid, (D)Barcelona')\n",
    "\n",
    "if R1_J1.upper() == 'C' and R1_J2.upper() == 'C':\n",
    "    print('Jugador 1 y Jugador 2, han acertado! ENHORABUENA')\n",
    "    puntos_jug1 += 1\n",
    "    puntos_jug2 += 1\n",
    "    print('Puntos Jugador 1:', puntos_jug1)\n",
    "    print('Puntos Jugador 2:', puntos_jug2)\n",
    "elif R1_J1.upper() == 'C' and R1_J2.upper() != 'C':\n",
    "    print('Jugador 1, has acertado!')\n",
    "    print('Jugador 2, mala suerte!')\n",
    "    puntos_jug1 += 1\n",
    "    puntos_jug2 += 0\n",
    "    print('Puntos Jugador 1:', puntos_jug1)\n",
    "    print('Puntos Jugador 2:', puntos_jug2)\n",
    "elif R1_J1.upper() != 'C' and R1_J2.upper() == 'C':\n",
    "    print('Jugador 2, has acertado!')\n",
    "    print('Jugador 1, mala suerte!')\n",
    "    puntos_jug1 += 0\n",
    "    puntos_jug2 += 1\n",
    "    print('Puntos Jugador 1:', puntos_jug1)\n",
    "    print('Puntos Jugador 2:', puntos_jug2)\n",
    "else:\n",
    "    print('Jugador 1 y Jugador 2, han fallado!')\n",
    "    puntos_jug1 += 0\n",
    "    puntos_jug2 += 0\n",
    "    print('Puntos Jugador 1:', puntos_jug1)\n",
    "    print('Puntos Jugador 2:', puntos_jug2)\n"
   ]
  },
  {
   "cell_type": "code",
   "execution_count": null,
   "id": "336e68af",
   "metadata": {},
   "outputs": [],
   "source": []
  },
  {
   "cell_type": "code",
   "execution_count": 12,
   "id": "5b15eb83",
   "metadata": {},
   "outputs": [
    {
     "name": "stdout",
     "output_type": "stream",
     "text": [
      "Respuesta Correcta\n"
     ]
    }
   ],
   "source": [
    "# PATRICIA\n",
    "\n",
    "dic_historia = {'Rey de España':'Felipe VI'}\n",
    "pregunta1 = input('¿Quien es el Rey de España? (A)Felipe, (B)Alfonso, (C)Juan Carlos, (D)Amadeo')\n",
    "\n",
    "if 'A' in pregunta1.upper():\n",
    "    print('Respuesta Correcta')\n",
    "else:\n",
    "    print('Mala suerte')"
   ]
  },
  {
   "cell_type": "code",
   "execution_count": null,
   "id": "8d3c82b0",
   "metadata": {},
   "outputs": [],
   "source": []
  },
  {
   "cell_type": "code",
   "execution_count": null,
   "id": "20bddfb4",
   "metadata": {},
   "outputs": [],
   "source": []
  }
 ],
 "metadata": {
  "kernelspec": {
   "display_name": "Python 3",
   "language": "python",
   "name": "python3"
  },
  "language_info": {
   "codemirror_mode": {
    "name": "ipython",
    "version": 3
   },
   "file_extension": ".py",
   "mimetype": "text/x-python",
   "name": "python",
   "nbconvert_exporter": "python",
   "pygments_lexer": "ipython3",
   "version": "3.9.6"
  }
 },
 "nbformat": 4,
 "nbformat_minor": 5
}
