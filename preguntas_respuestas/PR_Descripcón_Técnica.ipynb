{
 "cells": [
  {
   "cell_type": "markdown",
   "id": "ae6b212a",
   "metadata": {},
   "source": [
    "## PREGUNTAS & RESPUESTAS"
   ]
  },
  {
   "cell_type": "markdown",
   "id": "7603e4dd",
   "metadata": {},
   "source": [
    "#### DESCRIPCIÓN TÉCNICA:\n",
    "\n",
    "El código del Juego Preguntas y Respuestas (1 jugador) contiene:\n",
    "\n",
    "- Un diccionario de preguntas como claves y respuestas como valores.\n",
    "\n",
    "- Dos funciones random: una para seleccionar una pregunta aleatoria del diccionario; otra para seleccionar los mensajes de acertos/fallos.\n",
    "\n",
    "- Un bucle 'while' que mantiene el juego activo mientras el jugador quiera seguir jugando.\n",
    "\n",
    "- Dentro del bucle 'while':     \n",
    "         - hay un bucle 'for' para limitar cada ronda a un máximo de 5 preguntas     \n",
    "         - presenta la pregunta al jugador y permita que ingresen sus respuestas     \n",
    "         - hay un 'if' que suma un punto por cada respuesta correcta y presenta frases de felicitaciones o ánimo\n",
    "\n",
    "- Finaliza el bucle 'while' cuando el jugador no quiere seguir jugando."
   ]
  },
  {
   "cell_type": "markdown",
   "id": "acbfc37a",
   "metadata": {},
   "source": []
  }
 ],
 "metadata": {
  "language_info": {
   "name": "python"
  }
 },
 "nbformat": 4,
 "nbformat_minor": 5
}
