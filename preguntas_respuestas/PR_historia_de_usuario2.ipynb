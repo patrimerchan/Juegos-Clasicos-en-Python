{
 "cells": [
  {
   "cell_type": "markdown",
   "id": "d432d283",
   "metadata": {},
   "source": [
    "## HISTORIA DE USUARIO 2"
   ]
  },
  {
   "cell_type": "markdown",
   "id": "f98c546f",
   "metadata": {},
   "source": [
    "#### Creación del Juego Preguntas & Respuestas\n"
   ]
  },
  {
   "cell_type": "markdown",
   "id": "7c15bb70",
   "metadata": {},
   "source": [
    "OBJETIVO\n",
    "- Como estudiante de Python, quiero desarrollar el código para crear un juego Preguntas & Respuestas como parte de un proyecto para una empresa de videojuegos, para poner en práctica mis habilidades de programación y contribuir al desarrollo del juego.\n",
    "\n"
   ]
  },
  {
   "cell_type": "markdown",
   "id": "604b8791",
   "metadata": {},
   "source": [
    "DESCRIPCIÓN\n",
    "- En el proyecto, se nos pide la tarea de crear un juego de Preguntas & Respuestas utilizando Python. La empresa de videojuegos desea agregar este juego clásico a su catálogo. Patricia y Ariana deben desarrollar el código fuente del juego, que incluye la lógica del juego, la interfaz de usuario y la capacidad de jugar contra la computadora o con otro jugador. Además, debe asegurarse de que el juego sea intuitivo y divertido de jugar. Una vez completado, el juego será evaluado por sus compañeras y profesores como parte de su proceso de aprendizaje."
   ]
  },
  {
   "cell_type": "markdown",
   "id": "f102555e",
   "metadata": {},
   "source": [
    "CRITERIOS DE ACEPTACIÓN\n",
    "- El juego de Preguntas & Respuestas debe ser jugable por dos jugadores o contra la computadora.\n",
    "- Debe haber una interfaz de usuario clara y fácil de entender.\n",
    "- El juego debe seguir las reglas estándar de Preguntas & Respuestas.\n",
    "- Se deben implementar mensajes de victoria, empate y derrota.\n",
    "- El código debe estar bien documentado y seguir las mejores prácticas de programación en Python."
   ]
  }
 ],
 "metadata": {
  "language_info": {
   "name": "python"
  }
 },
 "nbformat": 4,
 "nbformat_minor": 5
}
