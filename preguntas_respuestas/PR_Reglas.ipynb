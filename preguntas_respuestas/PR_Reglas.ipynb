{
 "cells": [
  {
   "cell_type": "markdown",
   "id": "ae6b212a",
   "metadata": {},
   "source": [
    "## PREGUNTAS & RESPUESTAS"
   ]
  },
  {
   "cell_type": "markdown",
   "id": "6d7072a7",
   "metadata": {},
   "source": [
    "#### OBJETIVO"
   ]
  },
  {
   "cell_type": "markdown",
   "id": "38e721f1",
   "metadata": {},
   "source": [
    "El objetivo de juego es responder la mayor cantidad de preguntas correctamente para ganar el juego. Las preguntas pueden ser de diferentes categorías, como historia, ciencias, entretenimiento o cultura general.\n",
    "\n",
    "Puede ser jugado de forma individual o en equipo y es una forma divertida de aprender y poner a prueba tus conocimientos.\n"
   ]
  },
  {
   "cell_type": "markdown",
   "id": "c977a6f7",
   "metadata": {},
   "source": [
    "#### REGLAS DEL JUEGO"
   ]
  },
  {
   "cell_type": "markdown",
   "id": "803c7409",
   "metadata": {},
   "source": [
    "- El juego consiste en hacer preguntas de temas aleatórios y que el jugador adivine la respuesta correcta.\n",
    "\n",
    "- Cada pregunta tiene una respuesta única y correcta.\n",
    "\n",
    "- El jugador tiene apenas 1 intento para responder correctamente a cada pregunta. Si falla, pasa a la próxima pregunta.\n",
    "\n",
    "- El juego sigue hasta que el jugador haya finalizado 1 ronda que es compuesta por 5 preguntas.\n",
    "\n",
    "- Al final de 1 ronda de 5 preguntas el jugador puede eligir si quiere seguir jugando una ronda más o no.\n",
    "\n",
    "\n"
   ]
  },
  {
   "cell_type": "markdown",
   "id": "d4f70a83",
   "metadata": {},
   "source": []
  }
 ],
 "metadata": {
  "language_info": {
   "name": "python"
  }
 },
 "nbformat": 4,
 "nbformat_minor": 5
}
