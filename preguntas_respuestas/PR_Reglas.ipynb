{
 "cells": [
  {
   "cell_type": "markdown",
   "id": "ae6b212a",
   "metadata": {},
   "source": [
    "## PREGUNTAS & RESPUESTAS"
   ]
  },
  {
   "cell_type": "markdown",
   "id": "38e721f1",
   "metadata": {},
   "source": [
    "El objetivo de juego es responder la mayor cantidad de preguntas correctamente para ganar el juego. Las preguntas pueden ser de diferentes categorías, como historia, ciencias, entretenimiento o cultura general.\n",
    "\n",
    "Puede ser jugado de forma individual o en equipo y es una forma divertida de aprender y poner a prueba tus conocimientos.\n"
   ]
  },
  {
   "cell_type": "markdown",
   "id": "5f8f56dd",
   "metadata": {},
   "source": [
    "\n",
    "\n",
    "#### PLANIFICACIÓN"
   ]
  },
  {
   "cell_type": "markdown",
   "id": "a73d56de",
   "metadata": {},
   "source": [
    "#### 1. Sprints\n",
    "- Estableceremos pequeños ciclos iterativos de forma que al final de cada uno generemos valor perceptible por nuestros usuarios.\n",
    "- Dedicaremos el primer día a la planificación del sprint (sprint planning) y el resto a trabajar en el desarrollo del proyecto.\n",
    "\n",
    "\n",
    "    - Sprint 1 - crear la infraestructura necesaria: repositorio en GitHub y con acceso para todos los miembros del equipo.\n",
    "\n",
    "    - Sprint 2 - repartir la creación de los juegos por pequeños grupos de trabajo.\n",
    "\n",
    "    - Sprint 3 - crear la lógica antes de crear en código en python.\n",
    "\n",
    "    - Sprint 4 - crear el código en python.\n",
    "\n",
    "    - Sprint 5 - probar el código y hacer ajustes.\n",
    "\n",
    "    - Sprint 6 - presentar el código a los demás elementos del equipo y pedir feedback.\n",
    "\n",
    "    - Sprint 7 - usar el feedback del equipo y hacer ajustes si necesario.\n",
    "\n",
    "    - Sprint 8 - tener todos los juegos automatizados.\n",
    "\n",
    "    - Sprint 9 - tener en el repositorio de GitHub todo el código del desarrollo del proyecto.\n",
    "\n",
    "    \n",
    "    "
   ]
  },
  {
   "cell_type": "markdown",
   "id": "acbfc37a",
   "metadata": {},
   "source": []
  }
 ],
 "metadata": {
  "language_info": {
   "name": "python"
  }
 },
 "nbformat": 4,
 "nbformat_minor": 5
}
