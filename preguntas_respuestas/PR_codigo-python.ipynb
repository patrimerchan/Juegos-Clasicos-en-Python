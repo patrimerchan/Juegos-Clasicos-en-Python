{
 "cells": [
  {
   "cell_type": "markdown",
   "id": "2c8e89a2",
   "metadata": {},
   "source": [
    "## PREGUNTAS & RESPUESTAS"
   ]
  },
  {
   "cell_type": "markdown",
   "id": "9f06acdc",
   "metadata": {},
   "source": [
    "#### PSEUDO-CÓDIGO PYTHON"
   ]
  },
  {
   "cell_type": "code",
   "execution_count": 2,
   "id": "84d7f08a",
   "metadata": {},
   "outputs": [
    {
     "name": "stdout",
     "output_type": "stream",
     "text": [
      "Jugador 1, has acertado!\n",
      "Jugador 2, mala suerte!\n",
      "Puntos Jugador 1: 1\n",
      "Puntos Jugador 2: 0\n"
     ]
    }
   ],
   "source": [
    "# ESTA OPCION YA ESTÁ FUNCIONANDO !\n",
    "\n",
    "puntos_J1 = 0\n",
    "puntos_J2 = 0\n",
    "\n",
    "R1_J1 = input('¿Cual es la capital de España? (A)Bilbao, (B)Sevilla, (C)Madrid, (D)Barcelona')\n",
    "R1_J2 = input('¿Cual es la capital de España? (A)Bilbao, (B)Sevilla, (C)Madrid, (D)Barcelona')\n",
    "\n",
    "if R1_J1.upper() == 'C' and R1_J2.upper() == 'C':\n",
    "    print('Jugador 1 y Jugador 2, han acertado! ENHORABUENA')\n",
    "    puntos_J1 += 1\n",
    "    puntos_J2 += 0\n",
    "    print('Puntos Jugador 1:', puntos_J1)\n",
    "    print('Puntos Jugador 2:', puntos_J1)\n",
    "elif R1_J1.upper() == 'C' and R1_J2.upper() != 'C':\n",
    "    print('Jugador 1, has acertado!')\n",
    "    print('Jugador 2, mala suerte!')\n",
    "    puntos_J1 += 1\n",
    "    puntos_J2 += 0\n",
    "    print('Puntos Jugador 1:', puntos_J1)\n",
    "    print('Puntos Jugador 2:', puntos_J2)\n",
    "elif R1_J1.upper() != 'C' and R1_J2.upper() == 'C':\n",
    "    print('Jugador 2, has acertado!')\n",
    "    print('Jugador 1, mala suerte!')\n",
    "    puntos_J1 += 1\n",
    "    puntos_J2 += 0\n",
    "    print('Puntos Jugador 1:', puntos_J1)\n",
    "    print('Puntos Jugador 2:', puntos_J2)\n",
    "else:\n",
    "    print('Jugador 1 y Jugador 2, han fallado!')\n",
    "    puntos_J1 += 1\n",
    "    puntos_J2 += 0\n",
    "    print('Puntos Jugador 1:', puntos_J1)\n",
    "    print('Puntos Jugador 2:', puntos_J2)\n"
   ]
  },
  {
   "cell_type": "code",
   "execution_count": null,
   "id": "11579fa2",
   "metadata": {},
   "outputs": [],
   "source": []
  },
  {
   "cell_type": "code",
   "execution_count": null,
   "id": "a2a28828",
   "metadata": {},
   "outputs": [],
   "source": [
    "# OPCION PATRICIA\n",
    "\n",
    "dic_historia = {'Rey de España':'Felipe VI'}\n",
    "pregunta1 = input('¿Quien es el Rey de España? (A)Felipe, (B)Alfonso, (C)Juan Carlos, (D)Amadeo')\n",
    "\n",
    "if 'A' in pregunta1.upper():\n",
    "    print('Respuesta Correcta')\n",
    "else:\n",
    "    print('Mala suerte')"
   ]
  },
  {
   "cell_type": "code",
   "execution_count": null,
   "id": "a707bd41",
   "metadata": {},
   "outputs": [],
   "source": []
  },
  {
   "cell_type": "code",
   "execution_count": null,
   "id": "d4a6b281",
   "metadata": {},
   "outputs": [],
   "source": [
    "# PRUEBA SOLO CON UN JUGADOR\n",
    "## AUN NO FUNCIONA\n",
    "\n",
    "puntos_A = 0\n",
    "Jugador = input(\"Que jugador eres? A o B\")\n",
    "\n",
    "# Preguntas:\n",
    "# P1 - ¿Cuál es la capital de España?\n",
    "\n",
    "\n",
    "\n",
    "diccionario_preguntas = {'P1':'C', '¿De que color es el cielo?':'Azul',\n",
    "'Actor principal de Titanic':'Leonardo Dicaprio', '¿Que días tenemos clase':'Lunes a Viernes'}\n",
    "\n",
    "Respuesta1 = input(\"diccionario_preguntas[0]\")\n",
    "\n",
    "\n",
    "\n",
    "if Jugador == 'A':\n",
    "    if P1 == :\n",
    "    print(\"¡Eres un génio! Has ganado 1 punto.\")\n",
    "    puntos_A += 1\n",
    "    print(\"Puntos jugador A:\", puntos_A)\n",
    "elif Jugador == 'A' and Respuesta1 != 'C':\n",
    "    print(\"Mala suerte, has fallado\")\n",
    "    puntos_A += 0\n",
    "    print(\"Puntos jugador A:\", puntos_A)\n"
   ]
  }
 ],
 "metadata": {
  "kernelspec": {
   "display_name": "Python 3",
   "language": "python",
   "name": "python3"
  },
  "language_info": {
   "codemirror_mode": {
    "name": "ipython",
    "version": 3
   },
   "file_extension": ".py",
   "mimetype": "text/x-python",
   "name": "python",
   "nbconvert_exporter": "python",
   "pygments_lexer": "ipython3",
   "version": "3.9.6"
  }
 },
 "nbformat": 4,
 "nbformat_minor": 5
}
