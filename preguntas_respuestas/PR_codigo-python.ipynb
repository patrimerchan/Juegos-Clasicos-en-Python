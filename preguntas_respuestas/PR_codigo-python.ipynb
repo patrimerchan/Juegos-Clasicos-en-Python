{
 "cells": [
  {
   "cell_type": "markdown",
   "id": "2c8e89a2",
   "metadata": {},
   "source": [
    "## PREGUNTAS & RESPUESTAS"
   ]
  },
  {
   "cell_type": "markdown",
   "id": "9f06acdc",
   "metadata": {},
   "source": [
    "#### CÓDIGO PYTHON"
   ]
  },
  {
   "cell_type": "code",
   "execution_count": 13,
   "id": "84d7f08a",
   "metadata": {},
   "outputs": [
    {
     "name": "stdout",
     "output_type": "stream",
     "text": [
      "Mala suerte, has fallado\n",
      "Puntos jugador B: 0\n"
     ]
    }
   ],
   "source": [
    "puntos_A = 0\n",
    "puntos_B = 0\n",
    "\n",
    "Jugador = input(\"Que jugador eres? A o B\")\n",
    "Respuesta1 = input(\"¿Cuál es la capital de España? (A) Sevilla, (B) Bilbao, (C) Madrid, (D) Barcelona\")\n",
    "\n",
    "\n",
    "if Jugador == 'A' and Respuesta1 == 'C':\n",
    "    print(\"¡Eres un génio! Has ganado 1 punto.\")\n",
    "    puntos_A += 1\n",
    "    print(\"Puntos jugador A:\", puntos_A)\n",
    "elif Jugador == 'A' and Respuesta1 != 'C':\n",
    "    print(\"Mala suerte, has fallado\")\n",
    "    puntos_A += 0\n",
    "    print(\"Puntos jugador A:\", puntos_A)\n",
    "if Jugador == 'B' and Respuesta1 == 'C':\n",
    "    print(\"¡Eres un génio! Has ganado 1 punto.\")\n",
    "    puntos_B += 1\n",
    "    print(\"Puntos jugador B:\", puntos_B)\n",
    "elif Jugador == 'B' and Respuesta1 != 'C':\n",
    "    print(\"Mala suerte, has fallado\")\n",
    "    puntos_B += 0\n",
    "    print(\"Puntos jugador B:\", puntos_B)\n",
    "else:\n",
    "    print(\"Valor incorrecto. Elije A o B\")"
   ]
  },
  {
   "cell_type": "code",
   "execution_count": null,
   "id": "ed00a91e",
   "metadata": {},
   "outputs": [],
   "source": [
    "# PRUEBA SOLO CON UN JUGADOR\n",
    "## AUN NO FUNCIONA\n",
    "\n",
    "puntos_A = 0\n",
    "Jugador = input(\"Que jugador eres? A o B\")\n",
    "\n",
    "diccionario_preguntas = {'¿Cuál es la capital de España?':'Madrid', '¿De que color es el cielo?':'Azul',\n",
    "'Actor principal de Titanic':'Leonardo Dicaprio', '¿Que días tenemos clase':'Lunes a Viernes'}\n",
    "\n",
    "Respuesta1 = input(\"diccionario_preguntas[0]\")\n",
    "\n",
    "\n",
    "\n",
    "if Jugador == 'A' and Respuesta1 == 'C':\n",
    "    print(\"¡Eres un génio! Has ganado 1 punto.\")\n",
    "    puntos_A += 1\n",
    "    print(\"Puntos jugador A:\", puntos_A)\n",
    "elif Jugador == 'A' and Respuesta1 != 'C':\n",
    "    print(\"Mala suerte, has fallado\")\n",
    "    puntos_A += 0\n",
    "    print(\"Puntos jugador A:\", puntos_A)"
   ]
  },
  {
   "cell_type": "code",
   "execution_count": null,
   "id": "a2a28828",
   "metadata": {},
   "outputs": [],
   "source": []
  },
  {
   "cell_type": "code",
   "execution_count": null,
   "id": "a707bd41",
   "metadata": {},
   "outputs": [],
   "source": []
  }
 ],
 "metadata": {
  "kernelspec": {
   "display_name": "Python 3",
   "language": "python",
   "name": "python3"
  },
  "language_info": {
   "codemirror_mode": {
    "name": "ipython",
    "version": 3
   },
   "file_extension": ".py",
   "mimetype": "text/x-python",
   "name": "python",
   "nbconvert_exporter": "python",
   "pygments_lexer": "ipython3",
   "version": "3.9.6"
  }
 },
 "nbformat": 4,
 "nbformat_minor": 5
}
