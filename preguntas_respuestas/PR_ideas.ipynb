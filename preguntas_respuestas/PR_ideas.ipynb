{
 "cells": [
  {
   "cell_type": "markdown",
   "id": "2c8e89a2",
   "metadata": {},
   "source": [
    "## PREGUNTAS & RESPUESTAS"
   ]
  },
  {
   "cell_type": "markdown",
   "id": "9f06acdc",
   "metadata": {},
   "source": [
    "#### PSEUDO-CÓDIGO PYTHON"
   ]
  },
  {
   "cell_type": "code",
   "execution_count": 5,
   "id": "43133ae9",
   "metadata": {},
   "outputs": [],
   "source": [
    "import random"
   ]
  },
  {
   "cell_type": "code",
   "execution_count": null,
   "id": "2b506e99",
   "metadata": {},
   "outputs": [
    {
     "name": "stdout",
     "output_type": "stream",
     "text": [
      "\n",
      "🎯 ¡Bienvenido al juego Preguntas y Respuestas!\n",
      "¿Cuál es la función principal de un Analista de Datos? (A) Escribir correos electrónicos, (B) Traducir datos complejos en información útil, (C) Entrenar a nuevos empleados, (D) Diseñar una página web de la empresa\n",
      "b\n",
      "Tu lo sabes todo!\n",
      "Puntos: 1\n",
      "¿Qué estructura de datos es inmutable en Python? (A) Lista, (B) Diccionario, (C) Tupla, (D) Conjunto\n",
      "c\n",
      "Eres un génio!\n",
      "Puntos: 2\n",
      "¿Cual es la capital de España? (A)Bilbao, (B)Sevilla, (C)Madrid, (D)Barcelona\n",
      "c\n",
      "Eres un génio!\n",
      "Puntos: 3\n",
      "En el lenguaje Python ¿cómo podemos saber las keys de nuestro diccionario? (A) .keys(), (B) .key(), (C) No lo podremos saber nunca, (D) .keys\n",
      "c\n",
      "Ánimo, tu puedes hacer mejor!\n",
      "Puntos: 3\n",
      "¿Qué palabra clave se usa para definir una función en Python? (A) function, (B) fun, (C) def, (D) define\n",
      "b\n",
      "Mala suerte... has fallado!\n",
      "Puntos: 3\n",
      "👋 ¡Gracias por jugar!\n"
     ]
    }
   ],
   "source": [
    "# CÓDIGO FINAL !\n",
    "\n",
    "puntos = 0\n",
    "\n",
    "dic_preguntas = {'¿Cual es la capital de España? (A)Bilbao, (B)Sevilla, (C)Madrid, (D)Barcelona':'C', '¿Quien es el Rey de España? (A)Felipe, (B)Alfonso, (C)Juan Carlos, (D)Amadeo':'A', '¿Qué palabra clave se usa para definir una función en Python? (A) function, (B) fun, (C) def, (D) define':'C', '¿Qué estructura de datos es inmutable en Python? (A) Lista, (B) Diccionario, (C) Tupla, (D) Conjunto':'C', '¿Qué país es famoso por la Torre Eiffel? (A) Italia, (B) Francia, (C) Alemania, (D) Reino Unido':'B', '¿Qué personaje de Disney perdió un zapato de cristal? (A) Blancanieves, (B) Ariel, (C) Bella, (D) Cenicienta':'D', '¿Cuántas caras tiene un cubo? (A) Cuatro, (B) Seis, (C) Ocho, (D) Diez':'B', '¿Cuál es la función principal de un Analista de Datos? (A) Escribir correos electrónicos, (B) Traducir datos complejos en información útil, (C) Entrenar a nuevos empleados, (D) Diseñar una página web de la empresa':'B', 'En el lenguaje Python ¿cómo podemos saber las keys de nuestro diccionario? (A) .keys(), (B) .key(), (C) No lo podremos saber nunca, (D) .keys':'A'}\n",
    "felicitar = [\"Tu lo sabes todo!\", \"Has acertado! ENHORABUENA\", \"Eres una génia!\"]\n",
    "fallo = [\"Mala suerte... has fallado!\", \"Ánimo, tu puedes hacer mejor!\", \"Intenta otra vez\"]\n",
    "\n",
    "seguir_jugando = True\n",
    "\n",
    "while seguir_jugando:\n",
    "    puntos = 0\n",
    "    copy_preguntas = dic_preguntas.copy()\n",
    "    \n",
    "    print(\"\\n🎯 ¡Bienvenido al juego Preguntas y Respuestas!\")\n",
    "\n",
    "    for i in range(5):\n",
    "\n",
    "        p_aleatoria = random.choice(list(copy_preguntas.keys()))\n",
    "        print(p_aleatoria)\n",
    "        copy_preguntas.pop(p_aleatoria)\n",
    "\n",
    "        respuesta = input(f'{p_aleatoria}')\n",
    "        print(respuesta)\n",
    "\n",
    "        if respuesta.upper() == dic_preguntas[p_aleatoria]:\n",
    "            felic_aleatoria = random.choice(felicitar)\n",
    "            print(felic_aleatoria)\n",
    "            puntos += 1\n",
    "            print('Puntos:', puntos)\n",
    "\n",
    "            \n",
    "        else:\n",
    "            fallo_aleatoria = random.choice(fallo)\n",
    "            print(fallo_aleatoria)\n",
    "            puntos += 0\n",
    "            print('Puntos:', puntos)\n",
    "\n",
    "    opcion = input(\"¿Quieres jugar otra vez? (S/N): \").upper()\n",
    "    if opcion != \"S\":\n",
    "        seguir_jugando = False\n",
    "        print(\"👋 ¡Gracias por jugar!\")"
   ]
  },
  {
   "cell_type": "code",
   "execution_count": 8,
   "id": "a687157d",
   "metadata": {},
   "outputs": [
    {
     "data": {
      "text/plain": [
       "9"
      ]
     },
     "execution_count": 8,
     "metadata": {},
     "output_type": "execute_result"
    }
   ],
   "source": [
    "len(dic_preguntas)"
   ]
  },
  {
   "cell_type": "code",
   "execution_count": null,
   "id": "7269798a",
   "metadata": {},
   "outputs": [],
   "source": []
  },
  {
   "cell_type": "code",
   "execution_count": null,
   "id": "ae34049a",
   "metadata": {},
   "outputs": [],
   "source": []
  },
  {
   "cell_type": "code",
   "execution_count": null,
   "id": "5f7917b6",
   "metadata": {},
   "outputs": [],
   "source": []
  },
  {
   "cell_type": "code",
   "execution_count": null,
   "id": "574dfd53",
   "metadata": {},
   "outputs": [],
   "source": []
  },
  {
   "cell_type": "code",
   "execution_count": null,
   "id": "91374a24",
   "metadata": {},
   "outputs": [],
   "source": []
  },
  {
   "cell_type": "code",
   "execution_count": 2,
   "id": "84d7f08a",
   "metadata": {},
   "outputs": [
    {
     "name": "stdout",
     "output_type": "stream",
     "text": [
      "Jugador 1 y Jugador 2, han fallado!\n",
      "Puntos Jugador 1: 0\n",
      "Puntos Jugador 2: 0\n"
     ]
    }
   ],
   "source": [
    "# ESTA OPCION YA ESTÁ FUNCIONANDO !\n",
    "\n",
    "puntos_J1 = 0\n",
    "puntos_J2 = 0\n",
    "\n",
    "R1_J1 = input('¿Cual es la capital de España? (A)Bilbao, (B)Sevilla, (C)Madrid, (D)Barcelona')\n",
    "R1_J2 = input('¿Cual es la capital de España? (A)Bilbao, (B)Sevilla, (C)Madrid, (D)Barcelona')\n",
    "\n",
    "if R1_J1.upper() == 'C' and R1_J2.upper() == 'C':\n",
    "    print('Jugador 1 y Jugador 2, han acertado! ENHORABUENA')\n",
    "    puntos_J1 += 1\n",
    "    puntos_J2 += 1\n",
    "    print('Puntos Jugador 1:', puntos_J1)\n",
    "    print('Puntos Jugador 2:', puntos_J1)\n",
    "elif R1_J1.upper() == 'C' and R1_J2.upper() != 'C':\n",
    "    print('Jugador 1, has acertado!')\n",
    "    print('Jugador 2, mala suerte!')\n",
    "    puntos_J1 += 1\n",
    "    puntos_J2 += 0\n",
    "    print('Puntos Jugador 1:', puntos_J1)\n",
    "    print('Puntos Jugador 2:', puntos_J2)\n",
    "elif R1_J1.upper() != 'C' and R1_J2.upper() == 'C':\n",
    "    print('Jugador 2, has acertado!')\n",
    "    print('Jugador 1, mala suerte!')\n",
    "    puntos_J1 += 0\n",
    "    puntos_J2 += 1\n",
    "    print('Puntos Jugador 1:', puntos_J1)\n",
    "    print('Puntos Jugador 2:', puntos_J2)\n",
    "else:\n",
    "    print('Jugador 1 y Jugador 2, han fallado!')\n",
    "    puntos_J1 += 0\n",
    "    puntos_J2 += 0\n",
    "    print('Puntos Jugador 1:', puntos_J1)\n",
    "    print('Puntos Jugador 2:', puntos_J2)\n"
   ]
  },
  {
   "cell_type": "code",
   "execution_count": null,
   "id": "11579fa2",
   "metadata": {},
   "outputs": [],
   "source": []
  },
  {
   "cell_type": "code",
   "execution_count": null,
   "id": "a2a28828",
   "metadata": {},
   "outputs": [],
   "source": [
    "# OPCION PATRICIA\n",
    "\n",
    "dic_historia = {'Rey de España':'Felipe VI'}\n",
    "pregunta1 = input('¿Quien es el Rey de España? (A)Felipe, (B)Alfonso, (C)Juan Carlos, (D)Amadeo')\n",
    "\n",
    "if 'A' in pregunta1.upper():\n",
    "    print('Respuesta Correcta')\n",
    "else:\n",
    "    print('Mala suerte')"
   ]
  },
  {
   "cell_type": "markdown",
   "id": "27bc9663",
   "metadata": {},
   "source": [
    "#### CONSULTA CON CESAR"
   ]
  },
  {
   "cell_type": "code",
   "execution_count": 3,
   "id": "a707bd41",
   "metadata": {},
   "outputs": [
    {
     "ename": "NameError",
     "evalue": "name 'random' is not defined",
     "output_type": "error",
     "traceback": [
      "\u001b[0;31m---------------------------------------------------------------------------\u001b[0m",
      "\u001b[0;31mNameError\u001b[0m                                 Traceback (most recent call last)",
      "Cell \u001b[0;32mIn[3], line 3\u001b[0m\n\u001b[1;32m      1\u001b[0m dic_historia \u001b[38;5;241m=\u001b[39m {\u001b[38;5;124m'\u001b[39m\u001b[38;5;124mRey de España\u001b[39m\u001b[38;5;124m'\u001b[39m:\u001b[38;5;124m'\u001b[39m\u001b[38;5;124mFelipe VI\u001b[39m\u001b[38;5;124m'\u001b[39m, \u001b[38;5;124m'\u001b[39m\u001b[38;5;124mRey de Inglaterra\u001b[39m\u001b[38;5;124m'\u001b[39m:\u001b[38;5;124m'\u001b[39m\u001b[38;5;124mGuillermo\u001b[39m\u001b[38;5;124m'\u001b[39m}\n\u001b[0;32m----> 3\u001b[0m pregunta_aleatoria \u001b[38;5;241m=\u001b[39m \u001b[43mrandom\u001b[49m\u001b[38;5;241m.\u001b[39mchoice(\u001b[38;5;28mlist\u001b[39m(dic_historia\u001b[38;5;241m.\u001b[39mkeys()))\n\u001b[1;32m      4\u001b[0m \u001b[38;5;28mprint\u001b[39m(pregunta_aleatoria)\n\u001b[1;32m      6\u001b[0m respuesta \u001b[38;5;241m=\u001b[39m \u001b[38;5;28minput\u001b[39m(\u001b[38;5;124mf\u001b[39m\u001b[38;5;124m'\u001b[39m\u001b[38;5;132;01m{\u001b[39;00mpregunta_aleatoria\u001b[38;5;132;01m}\u001b[39;00m\u001b[38;5;124m'\u001b[39m)\n",
      "\u001b[0;31mNameError\u001b[0m: name 'random' is not defined"
     ]
    }
   ],
   "source": [
    "dic_historia = {'Rey de España':'Felipe VI', 'Rey de Inglaterra':'Guillermo'}\n",
    "\n",
    "pregunta_aleatoria = random.choice(list(dic_historia.keys()))\n",
    "print(pregunta_aleatoria)\n",
    "\n",
    "respuesta = input(f'{pregunta_aleatoria}')\n",
    "print(respuesta)\n",
    "\n",
    "if respuesta == dic_historia[pregunta_aleatoria]:\n",
    "  print('has acertado')\n",
    "else:\n",
    "  print('has fallado')"
   ]
  },
  {
   "cell_type": "markdown",
   "id": "47ab998e",
   "metadata": {},
   "source": [
    "### Probando con WHILE"
   ]
  },
  {
   "cell_type": "code",
   "execution_count": 4,
   "id": "92fa99ad",
   "metadata": {},
   "outputs": [],
   "source": [
    "import random"
   ]
  },
  {
   "cell_type": "code",
   "execution_count": 5,
   "id": "acd8f2ce",
   "metadata": {},
   "outputs": [
    {
     "name": "stdout",
     "output_type": "stream",
     "text": [
      "¿Quien es el Rey de España? (A)Felipe, (B)Alfonso, (C)Juan Carlos, (D)Amadeo\n",
      "A\n",
      "Has acertado! ENHORABUENA\n",
      "Puntos: 1\n",
      "¿Quien es el Rey de España? (A)Felipe, (B)Alfonso, (C)Juan Carlos, (D)Amadeo\n",
      "A\n",
      "Has acertado! ENHORABUENA\n",
      "Puntos: 2\n",
      "¿Cual es la capital de España? (A)Bilbao, (B)Sevilla, (C)Madrid, (D)Barcelona\n",
      "A\n",
      "Mala suerte... has fallado!\n",
      "Puntos: 2\n",
      "¿Cual es la capital de España? (A)Bilbao, (B)Sevilla, (C)Madrid, (D)Barcelona\n",
      "C\n",
      "Has acertado! ENHORABUENA\n",
      "Puntos: 3\n",
      "¿Cual es la capital de España? (A)Bilbao, (B)Sevilla, (C)Madrid, (D)Barcelona\n"
     ]
    },
    {
     "ename": "KeyboardInterrupt",
     "evalue": "Interrupted by user",
     "output_type": "error",
     "traceback": [
      "\u001b[0;31m---------------------------------------------------------------------------\u001b[0m",
      "\u001b[0;31mKeyboardInterrupt\u001b[0m                         Traceback (most recent call last)",
      "Cell \u001b[0;32mIn[5], line 11\u001b[0m\n\u001b[1;32m      8\u001b[0m p_aleatoria \u001b[38;5;241m=\u001b[39m random\u001b[38;5;241m.\u001b[39mchoice(\u001b[38;5;28mlist\u001b[39m(dic_preguntas\u001b[38;5;241m.\u001b[39mkeys()))\n\u001b[1;32m      9\u001b[0m \u001b[38;5;28mprint\u001b[39m(p_aleatoria)\n\u001b[0;32m---> 11\u001b[0m respuesta \u001b[38;5;241m=\u001b[39m \u001b[38;5;28;43minput\u001b[39;49m\u001b[43m(\u001b[49m\u001b[38;5;124;43mf\u001b[39;49m\u001b[38;5;124;43m'\u001b[39;49m\u001b[38;5;132;43;01m{\u001b[39;49;00m\u001b[43mp_aleatoria\u001b[49m\u001b[38;5;132;43;01m}\u001b[39;49;00m\u001b[38;5;124;43m'\u001b[39;49m\u001b[43m)\u001b[49m\n\u001b[1;32m     12\u001b[0m \u001b[38;5;28mprint\u001b[39m(respuesta)\n\u001b[1;32m     14\u001b[0m \u001b[38;5;28;01mif\u001b[39;00m respuesta\u001b[38;5;241m.\u001b[39mupper() \u001b[38;5;241m==\u001b[39m dic_preguntas[p_aleatoria]:\n",
      "File \u001b[0;32m~/Library/Python/3.9/lib/python/site-packages/ipykernel/kernelbase.py:1275\u001b[0m, in \u001b[0;36mKernel.raw_input\u001b[0;34m(self, prompt)\u001b[0m\n\u001b[1;32m   1273\u001b[0m     msg \u001b[38;5;241m=\u001b[39m \u001b[38;5;124m\"\u001b[39m\u001b[38;5;124mraw_input was called, but this frontend does not support input requests.\u001b[39m\u001b[38;5;124m\"\u001b[39m\n\u001b[1;32m   1274\u001b[0m     \u001b[38;5;28;01mraise\u001b[39;00m StdinNotImplementedError(msg)\n\u001b[0;32m-> 1275\u001b[0m \u001b[38;5;28;01mreturn\u001b[39;00m \u001b[38;5;28;43mself\u001b[39;49m\u001b[38;5;241;43m.\u001b[39;49m\u001b[43m_input_request\u001b[49m\u001b[43m(\u001b[49m\n\u001b[1;32m   1276\u001b[0m \u001b[43m    \u001b[49m\u001b[38;5;28;43mstr\u001b[39;49m\u001b[43m(\u001b[49m\u001b[43mprompt\u001b[49m\u001b[43m)\u001b[49m\u001b[43m,\u001b[49m\n\u001b[1;32m   1277\u001b[0m \u001b[43m    \u001b[49m\u001b[38;5;28;43mself\u001b[39;49m\u001b[38;5;241;43m.\u001b[39;49m\u001b[43m_parent_ident\u001b[49m\u001b[43m[\u001b[49m\u001b[38;5;124;43m\"\u001b[39;49m\u001b[38;5;124;43mshell\u001b[39;49m\u001b[38;5;124;43m\"\u001b[39;49m\u001b[43m]\u001b[49m\u001b[43m,\u001b[49m\n\u001b[1;32m   1278\u001b[0m \u001b[43m    \u001b[49m\u001b[38;5;28;43mself\u001b[39;49m\u001b[38;5;241;43m.\u001b[39;49m\u001b[43mget_parent\u001b[49m\u001b[43m(\u001b[49m\u001b[38;5;124;43m\"\u001b[39;49m\u001b[38;5;124;43mshell\u001b[39;49m\u001b[38;5;124;43m\"\u001b[39;49m\u001b[43m)\u001b[49m\u001b[43m,\u001b[49m\n\u001b[1;32m   1279\u001b[0m \u001b[43m    \u001b[49m\u001b[43mpassword\u001b[49m\u001b[38;5;241;43m=\u001b[39;49m\u001b[38;5;28;43;01mFalse\u001b[39;49;00m\u001b[43m,\u001b[49m\n\u001b[1;32m   1280\u001b[0m \u001b[43m\u001b[49m\u001b[43m)\u001b[49m\n",
      "File \u001b[0;32m~/Library/Python/3.9/lib/python/site-packages/ipykernel/kernelbase.py:1320\u001b[0m, in \u001b[0;36mKernel._input_request\u001b[0;34m(self, prompt, ident, parent, password)\u001b[0m\n\u001b[1;32m   1317\u001b[0m \u001b[38;5;28;01mexcept\u001b[39;00m \u001b[38;5;167;01mKeyboardInterrupt\u001b[39;00m:\n\u001b[1;32m   1318\u001b[0m     \u001b[38;5;66;03m# re-raise KeyboardInterrupt, to truncate traceback\u001b[39;00m\n\u001b[1;32m   1319\u001b[0m     msg \u001b[38;5;241m=\u001b[39m \u001b[38;5;124m\"\u001b[39m\u001b[38;5;124mInterrupted by user\u001b[39m\u001b[38;5;124m\"\u001b[39m\n\u001b[0;32m-> 1320\u001b[0m     \u001b[38;5;28;01mraise\u001b[39;00m \u001b[38;5;167;01mKeyboardInterrupt\u001b[39;00m(msg) \u001b[38;5;28;01mfrom\u001b[39;00m\u001b[38;5;250m \u001b[39m\u001b[38;5;28;01mNone\u001b[39;00m\n\u001b[1;32m   1321\u001b[0m \u001b[38;5;28;01mexcept\u001b[39;00m \u001b[38;5;167;01mException\u001b[39;00m:\n\u001b[1;32m   1322\u001b[0m     \u001b[38;5;28mself\u001b[39m\u001b[38;5;241m.\u001b[39mlog\u001b[38;5;241m.\u001b[39mwarning(\u001b[38;5;124m\"\u001b[39m\u001b[38;5;124mInvalid Message:\u001b[39m\u001b[38;5;124m\"\u001b[39m, exc_info\u001b[38;5;241m=\u001b[39m\u001b[38;5;28;01mTrue\u001b[39;00m)\n",
      "\u001b[0;31mKeyboardInterrupt\u001b[0m: Interrupted by user"
     ]
    }
   ],
   "source": [
    "puntos = 0\n",
    "\n",
    "dic_preguntas = {'¿Cual es la capital de España? (A)Bilbao, (B)Sevilla, (C)Madrid, (D)Barcelona':'C', '¿Quien es el Rey de España? (A)Felipe, (B)Alfonso, (C)Juan Carlos, (D)Amadeo':'A'}\n",
    "\n",
    "\n",
    "while puntos <= 3:\n",
    "    \n",
    "    p_aleatoria = random.choice(list(dic_preguntas.keys()))\n",
    "    print(p_aleatoria)\n",
    "\n",
    "    respuesta = input(f'{p_aleatoria}')\n",
    "    print(respuesta)\n",
    "\n",
    "    if respuesta.upper() == dic_preguntas[p_aleatoria]:\n",
    "        print('Has acertado! ENHORABUENA')\n",
    "        puntos += 1\n",
    "        print('Puntos:', puntos)\n",
    "        \n",
    "\n",
    "    else:\n",
    "        print('Mala suerte... has fallado!')\n",
    "        puntos += 0\n",
    "        print('Puntos:', puntos)\n",
    "        \n",
    "\n",
    "\n",
    "#creo que funciona bien, pero las mismas preguntas se van repitiendo"
   ]
  },
  {
   "cell_type": "markdown",
   "id": "db7b89e8",
   "metadata": {},
   "source": [
    "### Probando con FOR"
   ]
  },
  {
   "cell_type": "code",
   "execution_count": 6,
   "id": "5c6e2648",
   "metadata": {},
   "outputs": [
    {
     "name": "stdout",
     "output_type": "stream",
     "text": [
      "¿Quien es el Rey de España? (A)Felipe, (B)Alfonso, (C)Juan Carlos, (D)Amadeo\n",
      "A\n",
      "Has acertado! ENHORABUENA\n",
      "Puntos: 1\n",
      "¿Cual es la capital de España? (A)Bilbao, (B)Sevilla, (C)Madrid, (D)Barcelona\n",
      "C\n",
      "Has acertado! ENHORABUENA\n",
      "Puntos: 2\n"
     ]
    }
   ],
   "source": [
    "#Funciona mucho mejor!!!\n",
    "\n",
    "puntos = 0\n",
    "\n",
    "dic_preguntas = {'¿Cual es la capital de España? (A)Bilbao, (B)Sevilla, (C)Madrid, (D)Barcelona':'C', '¿Quien es el Rey de España? (A)Felipe, (B)Alfonso, (C)Juan Carlos, (D)Amadeo':'A'}\n",
    "\n",
    "\n",
    "for p_aleatoria in dic_preguntas:\n",
    "\n",
    "    p_aleatoria = random.choice(list(dic_preguntas.keys()))\n",
    "    print(p_aleatoria)\n",
    "\n",
    "    respuesta = input(f'{p_aleatoria}')\n",
    "    print(respuesta)\n",
    "\n",
    "    if respuesta.upper() == dic_preguntas[p_aleatoria]:\n",
    "        print('Has acertado! ENHORABUENA')\n",
    "        puntos += 1\n",
    "        print('Puntos:', puntos)\n",
    "        \n",
    "    else:\n",
    "        print('Mala suerte... has fallado!')\n",
    "        puntos += 0\n",
    "        print('Puntos:', puntos)"
   ]
  }
 ],
 "metadata": {
  "kernelspec": {
   "display_name": "Python 3",
   "language": "python",
   "name": "python3"
  },
  "language_info": {
   "codemirror_mode": {
    "name": "ipython",
    "version": 3
   },
   "file_extension": ".py",
   "mimetype": "text/x-python",
   "name": "python",
   "nbconvert_exporter": "python",
   "pygments_lexer": "ipython3",
   "version": "3.9.6"
  }
 },
 "nbformat": 4,
 "nbformat_minor": 5
}
