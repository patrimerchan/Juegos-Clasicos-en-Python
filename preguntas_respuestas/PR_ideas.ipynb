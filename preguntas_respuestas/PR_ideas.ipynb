{
 "cells": [
  {
   "cell_type": "markdown",
   "id": "2c8e89a2",
   "metadata": {},
   "source": [
    "## PREGUNTAS & RESPUESTAS"
   ]
  },
  {
   "cell_type": "markdown",
   "id": "9f06acdc",
   "metadata": {},
   "source": [
    "#### PSEUDO-CÓDIGO PYTHON"
   ]
  },
  {
   "cell_type": "code",
   "execution_count": 3,
   "id": "84d7f08a",
   "metadata": {},
   "outputs": [
    {
     "name": "stdout",
     "output_type": "stream",
     "text": [
      "Jugador 1, has acertado!\n",
      "Jugador 2, mala suerte!\n",
      "Puntos Jugador 1: 1\n",
      "Puntos Jugador 2: 0\n"
     ]
    }
   ],
   "source": [
    "# ESTA OPCION YA ESTÁ FUNCIONANDO !\n",
    "\n",
    "puntos_J1 = 0\n",
    "puntos_J2 = 0\n",
    "\n",
    "R1_J1 = input('¿Cual es la capital de España? (A)Bilbao, (B)Sevilla, (C)Madrid, (D)Barcelona')\n",
    "R1_J2 = input('¿Cual es la capital de España? (A)Bilbao, (B)Sevilla, (C)Madrid, (D)Barcelona')\n",
    "\n",
    "if R1_J1.upper() == 'C' and R1_J2.upper() == 'C':\n",
    "    print('Jugador 1 y Jugador 2, han acertado! ENHORABUENA')\n",
    "    puntos_J1 += 1\n",
    "    puntos_J2 += 1\n",
    "    print('Puntos Jugador 1:', puntos_J1)\n",
    "    print('Puntos Jugador 2:', puntos_J1)\n",
    "elif R1_J1.upper() == 'C' and R1_J2.upper() != 'C':\n",
    "    print('Jugador 1, has acertado!')\n",
    "    print('Jugador 2, mala suerte!')\n",
    "    puntos_J1 += 1\n",
    "    puntos_J2 += 0\n",
    "    print('Puntos Jugador 1:', puntos_J1)\n",
    "    print('Puntos Jugador 2:', puntos_J2)\n",
    "elif R1_J1.upper() != 'C' and R1_J2.upper() == 'C':\n",
    "    print('Jugador 2, has acertado!')\n",
    "    print('Jugador 1, mala suerte!')\n",
    "    puntos_J1 += 0\n",
    "    puntos_J2 += 1\n",
    "    print('Puntos Jugador 1:', puntos_J1)\n",
    "    print('Puntos Jugador 2:', puntos_J2)\n",
    "else:\n",
    "    print('Jugador 1 y Jugador 2, han fallado!')\n",
    "    puntos_J1 += 0\n",
    "    puntos_J2 += 0\n",
    "    print('Puntos Jugador 1:', puntos_J1)\n",
    "    print('Puntos Jugador 2:', puntos_J2)\n"
   ]
  },
  {
   "cell_type": "code",
   "execution_count": null,
   "id": "11579fa2",
   "metadata": {},
   "outputs": [],
   "source": []
  },
  {
   "cell_type": "code",
   "execution_count": null,
   "id": "a2a28828",
   "metadata": {},
   "outputs": [],
   "source": [
    "# OPCION PATRICIA\n",
    "\n",
    "dic_historia = {'Rey de España':'Felipe VI'}\n",
    "pregunta1 = input('¿Quien es el Rey de España? (A)Felipe, (B)Alfonso, (C)Juan Carlos, (D)Amadeo')\n",
    "\n",
    "if 'A' in pregunta1.upper():\n",
    "    print('Respuesta Correcta')\n",
    "else:\n",
    "    print('Mala suerte')"
   ]
  },
  {
   "cell_type": "markdown",
   "id": "27bc9663",
   "metadata": {},
   "source": [
    "#### CONSULTA CON CESAR"
   ]
  },
  {
   "cell_type": "code",
   "execution_count": null,
   "id": "a707bd41",
   "metadata": {},
   "outputs": [],
   "source": [
    "dic_historia = {'Rey de España':'Felipe VI', 'Rey de Inglaterra':'Guillermo'}\n",
    "\n",
    "pregunta_aleatoria = random.choice(list(dic_historia.keys()))\n",
    "print(pregunta_aleatoria)\n",
    "\n",
    "respuesta = input(f'{pregunta_aleatoria}')\n",
    "print(respuesta)\n",
    "\n",
    "if respuesta == dic_historia[pregunta_aleatoria]:\n",
    "  print('has acertado')\n",
    "else:\n",
    "  print('has fallado')"
   ]
  },
  {
   "cell_type": "markdown",
   "id": "47ab998e",
   "metadata": {},
   "source": [
    "### Probando con WHILE"
   ]
  },
  {
   "cell_type": "code",
   "execution_count": null,
   "id": "92fa99ad",
   "metadata": {},
   "outputs": [],
   "source": [
    "import random"
   ]
  },
  {
   "cell_type": "code",
   "execution_count": null,
   "id": "acd8f2ce",
   "metadata": {},
   "outputs": [],
   "source": [
    "puntos = 0\n",
    "\n",
    "dic_preguntas = {'¿Cual es la capital de España? (A)Bilbao, (B)Sevilla, (C)Madrid, (D)Barcelona':'C', '¿Quien es el Rey de España? (A)Felipe, (B)Alfonso, (C)Juan Carlos, (D)Amadeo':'A'}\n",
    "\n",
    "\n",
    "while puntos <= 3:\n",
    "    \n",
    "    p_aleatoria = random.choice(list(dic_preguntas.keys()))\n",
    "    print(p_aleatoria)\n",
    "\n",
    "    respuesta = input(f'{p_aleatoria}')\n",
    "    print(respuesta)\n",
    "\n",
    "    if respuesta.upper() == dic_preguntas[p_aleatoria]:\n",
    "        print('Has acertado! ENHORABUENA')\n",
    "        puntos += 1\n",
    "        print('Puntos:', puntos)\n",
    "        \n",
    "\n",
    "    else:\n",
    "        print('Mala suerte... has fallado!')\n",
    "        puntos += 0\n",
    "        print('Puntos:', puntos)\n",
    "        \n",
    "\n",
    "\n",
    "#creo que funciona bien, pero las mismas preguntas se van repitiendo"
   ]
  },
  {
   "cell_type": "markdown",
   "id": "db7b89e8",
   "metadata": {},
   "source": [
    "### Probando con FOR"
   ]
  },
  {
   "cell_type": "code",
   "execution_count": null,
   "id": "5c6e2648",
   "metadata": {},
   "outputs": [],
   "source": [
    "#Funciona mucho mejor!!!\n",
    "\n",
    "puntos = 0\n",
    "\n",
    "dic_preguntas = {'¿Cual es la capital de España? (A)Bilbao, (B)Sevilla, (C)Madrid, (D)Barcelona':'C', '¿Quien es el Rey de España? (A)Felipe, (B)Alfonso, (C)Juan Carlos, (D)Amadeo':'A'}\n",
    "\n",
    "\n",
    "for p_aleatoria in dic_preguntas:\n",
    "\n",
    "    p_aleatoria = random.choice(list(dic_preguntas.keys()))\n",
    "    print(p_aleatoria)\n",
    "\n",
    "    respuesta = input(f'{p_aleatoria}')\n",
    "    print(respuesta)\n",
    "\n",
    "    if respuesta.upper() == dic_preguntas[p_aleatoria]:\n",
    "        print('Has acertado! ENHORABUENA')\n",
    "        puntos += 1\n",
    "        print('Puntos:', puntos)\n",
    "        \n",
    "    else:\n",
    "        print('Mala suerte... has fallado!')\n",
    "        puntos += 0\n",
    "        print('Puntos:', puntos)"
   ]
  }
 ],
 "metadata": {
  "kernelspec": {
   "display_name": "Python 3",
   "language": "python",
   "name": "python3"
  },
  "language_info": {
   "codemirror_mode": {
    "name": "ipython",
    "version": 3
   },
   "file_extension": ".py",
   "mimetype": "text/x-python",
   "name": "python",
   "nbconvert_exporter": "python",
   "pygments_lexer": "ipython3",
   "version": "3.13.7"
  }
 },
 "nbformat": 4,
 "nbformat_minor": 5
}
