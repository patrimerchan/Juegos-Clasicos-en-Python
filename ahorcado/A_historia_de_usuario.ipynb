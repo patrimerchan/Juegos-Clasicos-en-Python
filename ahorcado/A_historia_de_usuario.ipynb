{
 "cells": [
  {
   "cell_type": "markdown",
   "id": "89b26765",
   "metadata": {},
   "source": [
    "## AHORCADO"
   ]
  },
  {
   "cell_type": "markdown",
   "id": "ac472274",
   "metadata": {},
   "source": [
    "#### HISTORIA DE USUARIO"
   ]
  },
  {
   "cell_type": "markdown",
   "id": "3001d288",
   "metadata": {},
   "source": [
    "OBJETIVO\n",
    "\n",
    "Como estudiante de Python, quiero desarrollar el código para crear un juego del Ahorcado como parte de un proyecto para una empresa de videojuegos, para poner en práctica mis habilidades de programación y contribuir al desarrollo del juego.\n",
    "\n"
   ]
  },
  {
   "cell_type": "markdown",
   "id": "43e87e97",
   "metadata": {},
   "source": []
  },
  {
   "cell_type": "markdown",
   "id": "2d76d7dd",
   "metadata": {},
   "source": [
    "DESCRIPCIÓN\n",
    "\n",
    "En el proyecto, se nos pide la tarea de crear un juego del Ahorcado utilizando Python.\n",
    "\n",
    "La empresa de videojuegos desea agregar este juego clásico a su catálogo. Gisela, Elena, Violeta, Patricia y Ariana deben desarrollar el código fuente del juego, que incluye la lógica del juego, la interfaz de usuario y la capacidad de jugar contra la computadora o con otro jugador.\n",
    "\n",
    "Además, debe asegurarse de que el juego sea intuitivo y divertido de jugar. Una vez completado, el juego será evaluado por sus compañeras y profesores como parte de su proceso de aprendizaje."
   ]
  },
  {
   "cell_type": "markdown",
   "id": "6497799d",
   "metadata": {},
   "source": []
  },
  {
   "cell_type": "markdown",
   "id": "00304a14",
   "metadata": {},
   "source": [
    "CRITERIOS DE ACEPTACIÓN\n",
    "\n",
    "- El juego del Ahorcado debe ser jugable por 1 jugador.\n",
    "- Debe haber una interfaz de usuario clara y fácil de entender.\n",
    "- El juego debe seguir las reglas estándar del Ahorcado.\n",
    "- Se deben implementar mensajes de victoria y derrota.\n",
    "- El código debe estar bien documentado y seguir las mejores prácticas de programación en Python."
   ]
  }
 ],
 "metadata": {
  "language_info": {
   "name": "python"
  }
 },
 "nbformat": 4,
 "nbformat_minor": 5
}
