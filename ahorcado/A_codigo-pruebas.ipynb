{
 "cells": [
  {
   "cell_type": "code",
   "execution_count": null,
   "id": "22829c0e",
   "metadata": {},
   "outputs": [
    {
     "name": "stdout",
     "output_type": "stream",
     "text": [
      "Palabra elegida (para pruebas): verde\n",
      "\n",
      "Tablero __ __ __ __ __\n",
      "Letras intentadas: e\n",
      "has acertado\n",
      "\n",
      "Tablero __ e __ __ e\n",
      "Ya intentaste esa letra, elige otra\n",
      "\n",
      "Tablero __ e __ __ e\n",
      "Letras intentadas: e, r\n",
      "has acertado\n",
      "\n",
      "Tablero __ e r __ e\n",
      "Letras intentadas: e, r, f\n",
      "❌ La letra no está en la palabra.\n",
      "\n",
      "Tablero __ e r __ e\n",
      "Letras intentadas: e, r, f, v\n",
      "has acertado\n",
      "\n",
      "Tablero v e r __ e\n",
      "Letras intentadas: e, r, f, v, d\n",
      "has acertado\n",
      "Enhorabuena! Has adivinado la palabra: VERDE\n"
     ]
    }
   ],
   "source": [
    "## PRUEBA ARIANA\n",
    "\n",
    "import random\n",
    "listadepalabras = [\"amarillo\", \"violeta\", \"rosa\", \"azul\", \"naranja\", \"verde\", \"negro\", \"turquesa\"]\n",
    "palabra_escogida = random.choice(listadepalabras)  \n",
    "print(\"Palabra elegida (para pruebas):\", palabra_escogida)\n",
    "\n",
    "contador_intentos = 0\n",
    "tablero = [\"__\"] * len(palabra_escogida)      # Creamos el tablero como lista de guiones, ejemplo -->  [\"_\", \"_\", \"_\", \"_\"]\n",
    "max_intentos = 10      # Número máximo de errores permitidos\n",
    "letras_intentadas = []         # Para guardar letras ya usadas\n",
    "\n",
    "\n",
    "while contador_intentos < max_intentos :\n",
    "\n",
    "\n",
    "    print('\\nTablero', ' '.join(tablero))  # \\n esto crea un salto de línea  # el join une todos los elementos de la lista tablero y los separa\n",
    "    letra = input(\"Escoge una letra: \").lower()\n",
    "    # Hay que comprobar si ya se usó esa letra\n",
    "    # A VECES ME FALLABA ESTA PARTE, HAY QUE PROBAR OTRA VEZ \n",
    "    if letra in letras_intentadas:\n",
    "        print(\"Ya intentaste esa letra, elige otra\")\n",
    "        continue\n",
    "\n",
    "    letras_intentadas.append(letra)  #añadí esto para las letras intentadas (Ari)\n",
    "    print(\"Letras intentadas:\", \", \".join(letras_intentadas))     # con lo que hay delante del .join, en este caso un espacio ' ' \n",
    "\n",
    "\n",
    "    # Se comprueba si la letra está en palabra_escogida\n",
    "    if letra in palabra_escogida:\n",
    "        print(\"has acertado\")\n",
    "        for l in range(len(palabra_escogida)):\n",
    "            if palabra_escogida[l] == letra:\n",
    "                tablero[l] = letra\n",
    "\n",
    "#Comparar el numero de intentos, cuando supere los 10 decir que perdió\n",
    "\n",
    "    else:\n",
    "        print(\"❌ La letra no está en la palabra.\")\n",
    "        contador_intentos += 1\n",
    "    \n",
    "    if \"\".join(tablero) == palabra_escogida:  #añadí esto para que termine cuando adivinamos (Ari) \n",
    "        print(\"Enhorabuena! Has adivinado la palabra:\", palabra_escogida.upper())\n",
    "        break"
   ]
  },
  {
   "cell_type": "code",
   "execution_count": null,
   "id": "4f66f361",
   "metadata": {},
   "outputs": [
    {
     "name": "stdout",
     "output_type": "stream",
     "text": [
      "verde\n",
      "{'v': 0, 'e': 1, 'r': 2, 'd': 3}\n",
      "*  *  *  *  *  \n",
      "__ __ __ __ __ \n",
      "has acertado\n"
     ]
    },
    {
     "ename": "TypeError",
     "evalue": "'str' object does not support item assignment",
     "output_type": "error",
     "traceback": [
      "\u001b[31m---------------------------------------------------------------------------\u001b[39m",
      "\u001b[31mTypeError\u001b[39m                                 Traceback (most recent call last)",
      "\u001b[36mCell\u001b[39m\u001b[36m \u001b[39m\u001b[32mIn[6]\u001b[39m\u001b[32m, line 25\u001b[39m\n\u001b[32m     23\u001b[39m \u001b[38;5;28;01mif\u001b[39;00m letras \u001b[38;5;129;01min\u001b[39;00m diccionarioposiciones:\n\u001b[32m     24\u001b[39m     \u001b[38;5;28mprint\u001b[39m(\u001b[33m\"\u001b[39m\u001b[33mhas acertado\u001b[39m\u001b[33m\"\u001b[39m)\n\u001b[32m---> \u001b[39m\u001b[32m25\u001b[39m     \u001b[43mtablero\u001b[49m\u001b[43m[\u001b[49m\u001b[43mdiccionarioposiciones\u001b[49m\u001b[43m[\u001b[49m\u001b[43mletras\u001b[49m\u001b[43m]\u001b[49m\u001b[43m]\u001b[49m = letras\n\u001b[32m     26\u001b[39m     \u001b[38;5;28mprint\u001b[39m(letra)\n\u001b[32m     27\u001b[39m     \u001b[38;5;28mprint\u001b[39m(tablero)\n",
      "\u001b[31mTypeError\u001b[39m: 'str' object does not support item assignment"
     ]
    }
   ],
   "source": [
    "\n",
    "\n",
    "import random\n",
    "listadepalabras = [\"amarillo\", \"violeta\", \"rosa\", \"azul\", \"naranja\", \"verde\", \"negro\", \"turquesa\"]\n",
    "palabra_escogida = random.choice(listadepalabras)  \n",
    "print(\"Palabra elegida (para pruebas):\", palabra_escogida)\n",
    "\n",
    "contador_intentos = 0\n",
    "tablero = [\"__\"] * len(palabra_escogida)      # Creamos el tablero como lista de guiones, ejemplo -->  [\"_\", \"_\", \"_\", \"_\"]\n",
    "max_intentos = 10      # Número máximo de errores permitidos\n",
    "letras_intentadas = []        # Para guardar letras ya usadas\n",
    "\n",
    "while contador_intentos < max_intentos :\n",
    "\n",
    "    print('\\nTablero', ' '.join(tablero)  # \\n esto crea un salto de línea  # el join une todos los elementos de la lista tablero y los separa\n",
    "    print(\"Letras intentadas:\", \", \".join(letras_intentadas))               # con lo que hay delante del .join, en este caso un espacio ' ' \n",
    "    letra = input(\"Escoge una letra: \").lower() \n",
    "\n",
    "    # Hay que comprobar si ya se usó esa letra\n",
    "\n",
    "    # Se comprueba si la letra está en palabra_escogida\n",
    "    if letra in palabra_escogida:\n",
    "        print(\"has acertado\")\n",
    "        for l in range(len(palabra_escogida)):\n",
    "            if palabra_escogida[l] == letra:\n",
    "                tablero[l] = letra\n",
    "\n",
    "    else:\n",
    "        print(\"❌ La letra no está en la palabra.\")\n",
    "        contador_intentos += 1"
   ]
  },
  {
   "cell_type": "code",
   "execution_count": 16,
   "id": "ae1d91ec",
   "metadata": {},
   "outputs": [
    {
     "data": {
      "text/plain": [
       "0"
      ]
     },
     "execution_count": 16,
     "metadata": {},
     "output_type": "execute_result"
    }
   ],
   "source": [
    "palabraescogida.find(\"a\") "
   ]
  },
  {
   "cell_type": "code",
   "execution_count": null,
   "id": "d2c6a44c",
   "metadata": {},
   "outputs": [],
   "source": [
    "# diccionario_posiciones = {}\n",
    "# for letra in palabra_escogida:\n",
    "#     diccionario_posiciones[letra] = palabra_escogida.find(letra) # Arreglar --> si se repite una letra, solo nos da la primera que encuentra\n",
    "# print(diccionario_posiciones)"
   ]
  },
  {
   "cell_type": "code",
   "execution_count": 17,
   "id": "b15beef5",
   "metadata": {},
   "outputs": [
    {
     "name": "stdout",
     "output_type": "stream",
     "text": [
      "a\n",
      "0\n",
      "z\n",
      "1\n",
      "u\n",
      "2\n",
      "l\n",
      "3\n"
     ]
    }
   ],
   "source": [
    "for letra in palabraescogida:\n",
    "    print(letra)\n",
    "    print(palabraescogida.find(letra))"
   ]
  },
  {
   "cell_type": "code",
   "execution_count": null,
   "id": "837db4f4",
   "metadata": {},
   "outputs": [
    {
     "name": "stdout",
     "output_type": "stream",
     "text": [
      ":dardo: ¡Bienvenido al juego del Ahorcado!\n",
      "La palabra tiene 7 letras.\n",
      "_ _ _ _ _ _ _\n",
      ":marca_de_verificación_blanca: ¡Bien hecho! La letra está en la palabra.\n",
      "_ a _ a _ _ a\n",
      "Letras usadas: a\n",
      ":marca_de_verificación_blanca: ¡Bien hecho! La letra está en la palabra.\n",
      "_ a _ a _ _ a\n",
      "Letras usadas: a, \n",
      ":advertencia: Ya usaste esa letra. Intenta con otra.\n",
      ":advertencia: Ya usaste esa letra. Intenta con otra.\n",
      ":advertencia: Ya usaste esa letra. Intenta con otra.\n",
      ":advertencia: Ya usaste esa letra. Intenta con otra.\n",
      ":advertencia: Ya usaste esa letra. Intenta con otra.\n",
      ":advertencia: Ya usaste esa letra. Intenta con otra.\n",
      ":advertencia: Ya usaste esa letra. Intenta con otra.\n",
      ":advertencia: Ya usaste esa letra. Intenta con otra.\n",
      ":advertencia: Ya usaste esa letra. Intenta con otra.\n",
      ":advertencia: Ya usaste esa letra. Intenta con otra.\n",
      ":x: La letra no está. Te quedan 5 intentos.\n",
      "_ a _ a _ _ a\n",
      "Letras usadas: a, , aa\n",
      ":advertencia: Ya usaste esa letra. Intenta con otra.\n",
      ":advertencia: Ya usaste esa letra. Intenta con otra.\n",
      ":advertencia: Ya usaste esa letra. Intenta con otra.\n",
      ":advertencia: Ya usaste esa letra. Intenta con otra.\n",
      ":advertencia: Ya usaste esa letra. Intenta con otra.\n",
      ":advertencia: Ya usaste esa letra. Intenta con otra.\n",
      ":advertencia: Ya usaste esa letra. Intenta con otra.\n",
      ":advertencia: Ya usaste esa letra. Intenta con otra.\n",
      ":advertencia: Ya usaste esa letra. Intenta con otra.\n",
      ":advertencia: Ya usaste esa letra. Intenta con otra.\n",
      ":advertencia: Ya usaste esa letra. Intenta con otra.\n",
      ":advertencia: Ya usaste esa letra. Intenta con otra.\n",
      ":advertencia: Ya usaste esa letra. Intenta con otra.\n",
      ":advertencia: Ya usaste esa letra. Intenta con otra.\n",
      ":advertencia: Ya usaste esa letra. Intenta con otra.\n",
      ":advertencia: Ya usaste esa letra. Intenta con otra.\n",
      ":advertencia: Ya usaste esa letra. Intenta con otra.\n",
      ":advertencia: Ya usaste esa letra. Intenta con otra.\n",
      ":advertencia: Ya usaste esa letra. Intenta con otra.\n",
      ":advertencia: Ya usaste esa letra. Intenta con otra.\n",
      ":advertencia: Ya usaste esa letra. Intenta con otra.\n",
      ":advertencia: Ya usaste esa letra. Intenta con otra.\n",
      ":advertencia: Ya usaste esa letra. Intenta con otra.\n"
     ]
    }
   ],
   "source": [
    "# Lista de palabras\n",
    "lista_palabras = [\"amarillo\", \"violeta\", \"rosa\", \"azul\", \"naranja\", \"verde\", \"negro\", \"turquesa\"]\n",
    "# Escoger una palabra al azar\n",
    "palabra = random.choice(lista_palabras)\n",
    "# Convertir palabra en lista para poder actualizarla fácilmente\n",
    "palabra_oculta = [\"_\"] * len(palabra)\n",
    "intentos_max = 6\n",
    "intentos = 0\n",
    "letras_usadas = []\n",
    "print(\":dardo: ¡Bienvenido al juego del Ahorcado!\")\n",
    "print(\"La palabra tiene\", len(palabra), \"letras.\")\n",
    "print(\" \".join(palabra_oculta))\n",
    "# Bucle del juego\n",
    "while intentos < intentos_max and \"_\" in palabra_oculta:\n",
    "    letra = input(\"Escoge una letra: \").lower()\n",
    "    # Verificar si la letra ya fue usada\n",
    "    if letra in letras_usadas:\n",
    "        print(\":advertencia: Ya usaste esa letra. Intenta con otra.\")\n",
    "        continue\n",
    "    letras_usadas.append(letra)\n",
    "    if letra in palabra:\n",
    "        print(\":marca_de_verificación_blanca: ¡Bien hecho! La letra está en la palabra.\")\n",
    "        # Reemplazar los guiones por la letra correcta\n",
    "        for i in range(len(palabra)):\n",
    "            if palabra[i] == letra:\n",
    "                palabra_oculta[i] = letra\n",
    "    else:\n",
    "        intentos += 1\n",
    "        print(f\":x: La letra no está. Te quedan {intentos_max - intentos} intentos.\")\n",
    "    # Mostrar progreso\n",
    "    print(\" \".join(palabra_oculta))\n",
    "    print(\"Letras usadas:\", \", \".join(letras_usadas))\n",
    "# Resultado final\n",
    "if \"_\" not in palabra_oculta:\n",
    "    print(\":gorro_de_fiesta: ¡Felicidades! Adivinaste la palabra:\", palabra)\n",
    "else:\n",
    "    print(\":lloros: Te quedaste sin intentos. La palabra era:\", palabra)\n"
   ]
  },
  {
   "cell_type": "code",
   "execution_count": 33,
   "id": "4ce914ed",
   "metadata": {},
   "outputs": [
    {
     "name": "stdout",
     "output_type": "stream",
     "text": [
      "Palabra elegida (para pruebas): azul\n",
      "\n",
      "Tablero __ __ __ __\n",
      "Letras intentadas: a\n",
      "has acertado\n",
      "\n",
      "Tablero a __ __ __\n",
      "Ya intentaste esa letra, elige otra\n",
      "\n",
      "Tablero a __ __ __\n",
      "Letras intentadas: a, z\n",
      "has acertado\n",
      "\n",
      "Tablero a z __ __\n",
      "Letras intentadas: a, z, e\n",
      "❌ La letra no está en la palabra.\n",
      "\n",
      "Tablero a z __ __\n",
      "Letras intentadas: a, z, e, u\n",
      "has acertado\n",
      "\n",
      "Tablero a z u __\n",
      "Letras intentadas: a, z, e, u, l\n",
      "has acertado\n",
      "Enhorabuena! Has adivinado la palabra: AZUL\n"
     ]
    }
   ],
   "source": [
    "import random\n",
    "listadepalabras = [\"amarillo\", \"violeta\", \"rosa\", \"azul\", \"naranja\", \"verde\", \"negro\", \"turquesa\"]\n",
    "palabra_escogida = random.choice(listadepalabras)  \n",
    "print(\"Palabra elegida (para pruebas):\", palabra_escogida)\n",
    "\n",
    "contador_intentos = 0\n",
    "tablero = [\"__\"] * len(palabra_escogida)      # Creamos el tablero como lista de guiones, ejemplo -->  [\"_\", \"_\", \"_\", \"_\"]\n",
    "max_intentos = 10      # Número máximo de errores permitidos\n",
    "letras_intentadas = []         # Para guardar letras ya usadas\n",
    "\n",
    "\n",
    "while contador_intentos < max_intentos :\n",
    "\n",
    "\n",
    "    print('\\nTablero', ' '.join(tablero))  # \\n esto crea un salto de línea  # el join une todos los elementos de la lista tablero y los separa\n",
    "    letra = input(\"Escoge una letra: \").lower()\n",
    "    # Hay que comprobar si ya se usó esa letra\n",
    "    # A VECES ME FALLABA ESTA PARTE, HAY QUE PROBAR OTRA VEZ \n",
    "    if letra in letras_intentadas:\n",
    "        print(\"Ya intentaste esa letra, elige otra\")\n",
    "        continue\n",
    "\n",
    "    letras_intentadas.append(letra)       #añadí esto para las letras intentadas (Ari)\n",
    "    print(\"Letras intentadas:\", \", \".join(letras_intentadas))     # con lo que hay delante del .join, en este caso un espacio ' ' \n",
    "\n",
    "\n",
    "    # Se comprueba si la letra está en palabra_escogida\n",
    "    if letra in palabra_escogida:\n",
    "        print(\"has acertado\")\n",
    "        for l in range(len(palabra_escogida)):\n",
    "            if palabra_escogida[l] == letra:\n",
    "                tablero[l] = letra\n",
    "\n",
    "    else:\n",
    "        print(\"❌ La letra no está en la palabra.\")\n",
    "        contador_intentos += 1\n",
    "    \n",
    "    if \"\".join(tablero) == palabra_escogida:        #añadí esto para cuando adivinamos la palabra termine el juego (Ari) \n",
    "        print(\"Enhorabuena! Has adivinado la palabra:\", palabra_escogida.upper())\n",
    "        break"
   ]
  }
 ],
 "metadata": {
  "kernelspec": {
   "display_name": "Python 3",
   "language": "python",
   "name": "python3"
  },
  "language_info": {
   "codemirror_mode": {
    "name": "ipython",
    "version": 3
   },
   "file_extension": ".py",
   "mimetype": "text/x-python",
   "name": "python",
   "nbconvert_exporter": "python",
   "pygments_lexer": "ipython3",
   "version": "3.9.6"
  }
 },
 "nbformat": 4,
 "nbformat_minor": 5
}
