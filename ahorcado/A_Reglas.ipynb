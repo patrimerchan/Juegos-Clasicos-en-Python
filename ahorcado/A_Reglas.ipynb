{
 "cells": [
  {
   "cell_type": "markdown",
   "id": "b636a401",
   "metadata": {},
   "source": [
    "## AHORCADO"
   ]
  },
  {
   "cell_type": "markdown",
   "id": "6be78807",
   "metadata": {},
   "source": [
    "#### OBJETIVO"
   ]
  },
  {
   "cell_type": "markdown",
   "id": "56b0985a",
   "metadata": {},
   "source": [
    "El objetivo del juego es adivinar la palabra secreta antes de que se complete el dibujo del ahorcado."
   ]
  },
  {
   "cell_type": "markdown",
   "id": "6f54dba1",
   "metadata": {},
   "source": [
    "#### REGLAS DEL JUEGO"
   ]
  },
  {
   "cell_type": "markdown",
   "id": "bcc5783b",
   "metadata": {},
   "source": [
    "- El juego se juega contra la computadora.\n",
    "\n",
    "- La computadora elige una palabra secreta y muestra un espacio por cada letra.\n",
    "\n",
    "- El jugador propone letras para adivinar la palabra:\n",
    "    - Si acierta, la letra se revela en su posición;\n",
    "    - Si falla, se dibuja una parte del cuerpo en la horca.\n",
    "\n",
    "- El jugador tiene un máximo de 7 fallos.\n",
    "\n",
    "- Gana si completa la palabra antes de agotar los intentos."
   ]
  }
 ],
 "metadata": {
  "language_info": {
   "name": "python"
  }
 },
 "nbformat": 4,
 "nbformat_minor": 5
}
