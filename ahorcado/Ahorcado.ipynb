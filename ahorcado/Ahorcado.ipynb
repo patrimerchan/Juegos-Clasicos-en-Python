{
 "cells": [
  {
   "cell_type": "markdown",
   "id": "efd5818d",
   "metadata": {},
   "source": [
    " # Ahorcado\n",
    "\n",
    "- Reglas del juego del \"Ahorcado\":\n",
    "\n",
    "    - Un jugador elige una palabra secreta y dibuja un espacio para cada letra de la palabra.\n",
    "\n",
    "    - El otro jugador intenta adivinar letras para completar la palabra.\n",
    "\n",
    "    - Si el jugador adivinador adivina una letra correctamente, se revela en su lugar correspondiente.\n",
    "\n",
    "    - Si el jugador adivinador adivina incorrectamente, se dibuja una parte del cuerpo en la horca.\n",
    "\n",
    "    - El objetivo del jugador adivinador es adivinar la palabra antes de que se dibuje el dibujo completo en la horca.\n",
    "\n",
    "\n",
    "- Pistas para las alumnas:\n",
    "\n",
    "    1. Empieza por seleccionar una palabra secreta para que el jugador adivinador intente adivinar. Puedes crear una lista de palabras.\n",
    "\n",
    "    2. Inicializa el tablero de juego con guiones bajos (\"_\") para representar las letras no adivinadas.\n",
    "\n",
    "    3. Utiliza un bucle `while` para permitir que el jugador adivinador haga múltiples intentos hasta que adivine la palabra o se agoten los intentos.\n",
    "\n",
    "    4. Verifica si la letra adivinada por el jugador está en la palabra secreta y actualicen el tablero en consecuencia.\n",
    "\n",
    "    5. Lleva un seguimiento de las letras adivinadas y los intentos fallidos.\n",
    "\n",
    "    6. Determina las condiciones de victoria y derrota del juego, y salgan del bucle cuando se cumplan estas condiciones."
   ]
  },
  {
   "cell_type": "markdown",
   "id": "869a23a3",
   "metadata": {},
   "source": [
    "Lista de palabras\n",
    "random sobre lista de palabras \n",
    "len(palabras)\n",
    "palabraescogida = nº de _ \n",
    "While:\n",
    "que acaba si: \n",
    "A) el jugador adivina la palabraescogida\n",
    "B) Se terminan los intentos \n",
    "input(letra en palabraescogida)\n",
    "if input in palabra: \n",
    "ponemos la letra en el hueco correspondiente \n",
    "for letra in palabraescogida:\n"
   ]
  },
  {
   "cell_type": "code",
   "execution_count": 3,
   "id": "4f66f361",
   "metadata": {},
   "outputs": [
    {
     "name": "stdout",
     "output_type": "stream",
     "text": [
      "azul\n",
      "{'a': 0, 'z': 1, 'u': 2, 'l': 3}\n",
      "_ _ _ _ \n",
      "has acertado\n",
      "l\n",
      "_ _ _ _ \n",
      "la letra no está\n",
      "_ _ _ _ \n",
      "la letra no está\n"
     ]
    }
   ],
   "source": [
    "import random\n",
    "listadepalabras = [\"amarillo\", \"violeta\", \"rosa\", \"azul\", \"naranja\", \"verde\", \"negro\", \"turquesa\"]\n",
    "palabraescogida = random.choice(listadepalabras)  \n",
    "print(palabraescogida)\n",
    "contadorintentos = 0\n",
    "\n",
    "diccionarioposiciones = {}\n",
    "for letra in palabraescogida:\n",
    "    diccionarioposiciones[letra] = palabraescogida.find(letra)\n",
    "\n",
    "print(diccionarioposiciones)\n",
    "numletras = len(palabraescogida)\n",
    "guiones = \"_ \" * numletras\n",
    "\n",
    "\n",
    "while contadorintentos < 3:\n",
    "    letras = input(\"Escoge una letra\")\n",
    "    contadorintentos += 1\n",
    "    print(guiones)\n",
    "\n",
    "    if letras in diccionarioposiciones:\n",
    "        print(\"has acertado\")\n",
    "        print(letra) \n",
    "           \n",
    "    else:\n",
    "        print(\"la letra no está\")\n",
    "        \n",
    "\n",
    "        "
   ]
  },
  {
   "cell_type": "code",
   "execution_count": 16,
   "id": "ae1d91ec",
   "metadata": {},
   "outputs": [
    {
     "data": {
      "text/plain": [
       "0"
      ]
     },
     "execution_count": 16,
     "metadata": {},
     "output_type": "execute_result"
    }
   ],
   "source": [
    "palabraescogida.find(\"a\") "
   ]
  },
  {
   "cell_type": "code",
   "execution_count": 17,
   "id": "b15beef5",
   "metadata": {},
   "outputs": [
    {
     "name": "stdout",
     "output_type": "stream",
     "text": [
      "a\n",
      "0\n",
      "z\n",
      "1\n",
      "u\n",
      "2\n",
      "l\n",
      "3\n"
     ]
    }
   ],
   "source": [
    "for letra in palabraescogida:\n",
    "    print(letra)\n",
    "    print(palabraescogida.find(letra))"
   ]
  }
 ],
 "metadata": {
  "kernelspec": {
   "display_name": "Python 3",
   "language": "python",
   "name": "python3"
  },
  "language_info": {
   "codemirror_mode": {
    "name": "ipython",
    "version": 3
   },
   "file_extension": ".py",
   "mimetype": "text/x-python",
   "name": "python",
   "nbconvert_exporter": "python",
   "pygments_lexer": "ipython3",
   "version": "3.13.7"
  }
 },
 "nbformat": 4,
 "nbformat_minor": 5
}
