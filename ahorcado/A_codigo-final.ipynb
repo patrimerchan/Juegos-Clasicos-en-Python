{
 "cells": [
  {
   "cell_type": "code",
   "execution_count": null,
   "id": "c118cbe0",
   "metadata": {},
   "outputs": [
    {
     "name": "stdout",
     "output_type": "stream",
     "text": [
      "Palabra elegida (para pruebas): azul\n",
      "\n",
      "Tablero __ __ __ __\n",
      "Letras intentadas: a\n",
      "has acertado\n",
      "\n",
      "Tablero a __ __ __\n",
      "Letras intentadas: a, e\n",
      "❌ La letra no está en la palabra.\n",
      "\n",
      "Tablero a __ __ __\n",
      "Letras intentadas: a, e, z\n",
      "has acertado\n",
      "\n",
      "Tablero a z __ __\n",
      "Letras intentadas: a, e, z, u\n",
      "has acertado\n",
      "\n",
      "Tablero a z u __\n",
      "Letras intentadas: a, e, z, u, l\n",
      "has acertado\n",
      "\n",
      "Tablero a z u l\n"
     ]
    },
    {
     "ename": "KeyboardInterrupt",
     "evalue": "Interrupted by user",
     "output_type": "error",
     "traceback": [
      "\u001b[0;31m---------------------------------------------------------------------------\u001b[0m",
      "\u001b[0;31mKeyboardInterrupt\u001b[0m                         Traceback (most recent call last)",
      "Cell \u001b[0;32mIn[2], line 14\u001b[0m\n\u001b[1;32m     11\u001b[0m \u001b[38;5;28;01mwhile\u001b[39;00m contador_intentos \u001b[38;5;241m<\u001b[39m max_intentos :\n\u001b[1;32m     13\u001b[0m     \u001b[38;5;28mprint\u001b[39m(\u001b[38;5;124m'\u001b[39m\u001b[38;5;130;01m\\n\u001b[39;00m\u001b[38;5;124mTablero\u001b[39m\u001b[38;5;124m'\u001b[39m, \u001b[38;5;124m'\u001b[39m\u001b[38;5;124m \u001b[39m\u001b[38;5;124m'\u001b[39m\u001b[38;5;241m.\u001b[39mjoin(tablero))  \u001b[38;5;66;03m# \\n esto crea un salto de línea  # el join une todos los elementos de la lista tablero y los separa\u001b[39;00m\n\u001b[0;32m---> 14\u001b[0m     letra \u001b[38;5;241m=\u001b[39m \u001b[38;5;28;43minput\u001b[39;49m\u001b[43m(\u001b[49m\u001b[38;5;124;43m\"\u001b[39;49m\u001b[38;5;124;43mEscoge una letra: \u001b[39;49m\u001b[38;5;124;43m\"\u001b[39;49m\u001b[43m)\u001b[49m\u001b[38;5;241m.\u001b[39mlower()\n\u001b[1;32m     15\u001b[0m     letras_intentadas\u001b[38;5;241m.\u001b[39mappend(letra)       \u001b[38;5;66;03m#añadí esto para las letras intentadas (Ari)\u001b[39;00m\n\u001b[1;32m     16\u001b[0m     \u001b[38;5;28mprint\u001b[39m(\u001b[38;5;124m\"\u001b[39m\u001b[38;5;124mLetras intentadas:\u001b[39m\u001b[38;5;124m\"\u001b[39m, \u001b[38;5;124m\"\u001b[39m\u001b[38;5;124m, \u001b[39m\u001b[38;5;124m\"\u001b[39m\u001b[38;5;241m.\u001b[39mjoin(letras_intentadas))     \u001b[38;5;66;03m# con lo que hay delante del .join, en este caso un espacio ' ' \u001b[39;00m\n",
      "File \u001b[0;32m~/Library/Python/3.9/lib/python/site-packages/ipykernel/kernelbase.py:1275\u001b[0m, in \u001b[0;36mKernel.raw_input\u001b[0;34m(self, prompt)\u001b[0m\n\u001b[1;32m   1273\u001b[0m     msg \u001b[38;5;241m=\u001b[39m \u001b[38;5;124m\"\u001b[39m\u001b[38;5;124mraw_input was called, but this frontend does not support input requests.\u001b[39m\u001b[38;5;124m\"\u001b[39m\n\u001b[1;32m   1274\u001b[0m     \u001b[38;5;28;01mraise\u001b[39;00m StdinNotImplementedError(msg)\n\u001b[0;32m-> 1275\u001b[0m \u001b[38;5;28;01mreturn\u001b[39;00m \u001b[38;5;28;43mself\u001b[39;49m\u001b[38;5;241;43m.\u001b[39;49m\u001b[43m_input_request\u001b[49m\u001b[43m(\u001b[49m\n\u001b[1;32m   1276\u001b[0m \u001b[43m    \u001b[49m\u001b[38;5;28;43mstr\u001b[39;49m\u001b[43m(\u001b[49m\u001b[43mprompt\u001b[49m\u001b[43m)\u001b[49m\u001b[43m,\u001b[49m\n\u001b[1;32m   1277\u001b[0m \u001b[43m    \u001b[49m\u001b[38;5;28;43mself\u001b[39;49m\u001b[38;5;241;43m.\u001b[39;49m\u001b[43m_parent_ident\u001b[49m\u001b[43m[\u001b[49m\u001b[38;5;124;43m\"\u001b[39;49m\u001b[38;5;124;43mshell\u001b[39;49m\u001b[38;5;124;43m\"\u001b[39;49m\u001b[43m]\u001b[49m\u001b[43m,\u001b[49m\n\u001b[1;32m   1278\u001b[0m \u001b[43m    \u001b[49m\u001b[38;5;28;43mself\u001b[39;49m\u001b[38;5;241;43m.\u001b[39;49m\u001b[43mget_parent\u001b[49m\u001b[43m(\u001b[49m\u001b[38;5;124;43m\"\u001b[39;49m\u001b[38;5;124;43mshell\u001b[39;49m\u001b[38;5;124;43m\"\u001b[39;49m\u001b[43m)\u001b[49m\u001b[43m,\u001b[49m\n\u001b[1;32m   1279\u001b[0m \u001b[43m    \u001b[49m\u001b[43mpassword\u001b[49m\u001b[38;5;241;43m=\u001b[39;49m\u001b[38;5;28;43;01mFalse\u001b[39;49;00m\u001b[43m,\u001b[49m\n\u001b[1;32m   1280\u001b[0m \u001b[43m\u001b[49m\u001b[43m)\u001b[49m\n",
      "File \u001b[0;32m~/Library/Python/3.9/lib/python/site-packages/ipykernel/kernelbase.py:1320\u001b[0m, in \u001b[0;36mKernel._input_request\u001b[0;34m(self, prompt, ident, parent, password)\u001b[0m\n\u001b[1;32m   1317\u001b[0m \u001b[38;5;28;01mexcept\u001b[39;00m \u001b[38;5;167;01mKeyboardInterrupt\u001b[39;00m:\n\u001b[1;32m   1318\u001b[0m     \u001b[38;5;66;03m# re-raise KeyboardInterrupt, to truncate traceback\u001b[39;00m\n\u001b[1;32m   1319\u001b[0m     msg \u001b[38;5;241m=\u001b[39m \u001b[38;5;124m\"\u001b[39m\u001b[38;5;124mInterrupted by user\u001b[39m\u001b[38;5;124m\"\u001b[39m\n\u001b[0;32m-> 1320\u001b[0m     \u001b[38;5;28;01mraise\u001b[39;00m \u001b[38;5;167;01mKeyboardInterrupt\u001b[39;00m(msg) \u001b[38;5;28;01mfrom\u001b[39;00m\u001b[38;5;250m \u001b[39m\u001b[38;5;28;01mNone\u001b[39;00m\n\u001b[1;32m   1321\u001b[0m \u001b[38;5;28;01mexcept\u001b[39;00m \u001b[38;5;167;01mException\u001b[39;00m:\n\u001b[1;32m   1322\u001b[0m     \u001b[38;5;28mself\u001b[39m\u001b[38;5;241m.\u001b[39mlog\u001b[38;5;241m.\u001b[39mwarning(\u001b[38;5;124m\"\u001b[39m\u001b[38;5;124mInvalid Message:\u001b[39m\u001b[38;5;124m\"\u001b[39m, exc_info\u001b[38;5;241m=\u001b[39m\u001b[38;5;28;01mTrue\u001b[39;00m)\n",
      "\u001b[0;31mKeyboardInterrupt\u001b[0m: Interrupted by user"
     ]
    }
   ],
   "source": [
    "import random\n",
    "listadepalabras = [\"amarillo\", \"violeta\", \"rosa\", \"azul\", \"naranja\", \"verde\", \"negro\", \"turquesa\"]\n",
    "palabra_escogida = random.choice(listadepalabras)  \n",
    "print(\"Palabra elegida (para pruebas):\", palabra_escogida)\n",
    "\n",
    "contador_intentos = 0\n",
    "tablero = [\"__\"] * len(palabra_escogida)      # Creamos el tablero como lista de guiones, ejemplo -->  [\"_\", \"_\", \"_\", \"_\"]\n",
    "max_intentos = 10      # Número máximo de errores permitidos\n",
    "letras_intentadas = []        # Para guardar letras ya usadas\n",
    "\n",
    "while contador_intentos < max_intentos :\n",
    "\n",
    "    print('\\nTablero', ' '.join(tablero))  # \\n esto crea un salto de línea  # el join une todos los elementos de la lista tablero y los separa\n",
    "    letra = input(\"Escoge una letra: \").lower()\n",
    "    letras_intentadas.append(letra)       #añadí esto para las letras intentadas (Ari)\n",
    "    print(\"Letras intentadas:\", \", \".join(letras_intentadas))     # con lo que hay delante del .join, en este caso un espacio ' ' \n",
    "\n",
    "\n",
    "    # Hay que comprobar si ya se usó esa letra\n",
    "\n",
    "    # Se comprueba si la letra está en palabra_escogida\n",
    "    if letra in palabra_escogida:\n",
    "        print(\"has acertado\")\n",
    "        for l in range(len(palabra_escogida)):\n",
    "            if palabra_escogida[l] == letra:\n",
    "                tablero[l] = letra\n",
    "\n",
    "    else:\n",
    "        print(\"❌ La letra no está en la palabra.\")\n",
    "        contador_intentos += 1\n",
    "    \n",
    "    if \"\".join(tablero) == palabra_escogida:        #añadí esto para cuando adivinamos la palabra (Ari) \n",
    "        print(\"Enhorabuena! Has adivinado la palabra:\", palabra_escogida.upper())\n",
    "        break"
   ]
  }
 ],
 "metadata": {
  "kernelspec": {
   "display_name": "Python 3",
   "language": "python",
   "name": "python3"
  },
  "language_info": {
   "codemirror_mode": {
    "name": "ipython",
    "version": 3
   },
   "file_extension": ".py",
   "mimetype": "text/x-python",
   "name": "python",
   "nbconvert_exporter": "python",
   "pygments_lexer": "ipython3",
   "version": "3.9.6"
  }
 },
 "nbformat": 4,
 "nbformat_minor": 5
}
