{
 "cells": [
  {
   "cell_type": "code",
   "execution_count": null,
   "id": "c118cbe0",
   "metadata": {},
   "outputs": [],
   "source": [
    "import random\n",
    "listadepalabras = [\"amarillo\", \"violeta\", \"rosa\", \"azul\", \"naranja\", \"verde\", \"negro\", \"turquesa\"]\n",
    "palabra_escogida = random.choice(listadepalabras)  \n",
    "print(\"Palabra elegida (para pruebas):\", palabra_escogida)\n",
    "\n",
    "contador_intentos = 0\n",
    "tablero = [\"__\"] * len(palabra_escogida)      # Creamos el tablero como lista de guiones, ejemplo -->  [\"_\", \"_\", \"_\", \"_\"]\n",
    "max_intentos = 10      # Número máximo de errores permitidos\n",
    "letras_intentadas = []        # Para guardar letras ya usadas\n",
    "\n",
    "while contador_intentos < max_intentos :\n",
    "\n",
    "    print('\\nTablero', ' '.join(tablero)  # \\n esto crea un salto de línea  # el join une todos los elementos de la lista tablero y los separa\n",
    "    print(\"Letras intentadas:\", \", \".join(letras_intentadas))               # con lo que hay delante del .join, en este caso un espacio ' ' \n",
    "    letra = input(\"Escoge una letra: \").lower() \n",
    "\n",
    "    # Hay que comprobar si ya se usó esa letra\n",
    "\n",
    "    # Se comprueba si la letra está en palabra_escogida\n",
    "    if letra in palabra_escogida:\n",
    "        print(\"has acertado\")\n",
    "        for l in range(len(palabra_escogida)):\n",
    "            if palabra_escogida[l] == letra:\n",
    "                tablero[l] = letra\n",
    "\n",
    "    else:\n",
    "        print(\"❌ La letra no está en la palabra.\")\n",
    "        contador_intentos += 1"
   ]
  }
 ],
 "metadata": {
  "language_info": {
   "name": "python"
  }
 },
 "nbformat": 4,
 "nbformat_minor": 5
}
