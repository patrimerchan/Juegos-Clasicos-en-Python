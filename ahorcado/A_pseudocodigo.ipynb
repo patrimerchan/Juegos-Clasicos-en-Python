{
 "cells": [
  {
   "cell_type": "markdown",
   "id": "03ddfd17",
   "metadata": {},
   "source": [
    "## AHORCADO"
   ]
  },
  {
   "cell_type": "markdown",
   "id": "fef22798",
   "metadata": {},
   "source": [
    "#### PSEUDO-CÓDIGO"
   ]
  },
  {
   "cell_type": "markdown",
   "id": "b406d5c3",
   "metadata": {},
   "source": [
    "- Lista de palabras\n",
    "- random sobre lista de palabras \n",
    "- len(palabras)\n",
    "- palabraescogida = nº de _ \n",
    "- While que acabe si:  \n",
    "    - A) el jugador adivina la palabraescogida\n",
    "    - B) Se terminan los intentos\n",
    "\n",
    "- input(letra en palabraescogida)\n",
    "- if input in palabra: \n",
    "    ponemos la letra en el hueco correspondiente \n",
    "    for letra in palabraescogida:\n",
    "\n",
    "- Lista de letras intentadas\n",
    "- Contaje de intentos fallidos"
   ]
  }
 ],
 "metadata": {
  "language_info": {
   "name": "python"
  }
 },
 "nbformat": 4,
 "nbformat_minor": 5
}
