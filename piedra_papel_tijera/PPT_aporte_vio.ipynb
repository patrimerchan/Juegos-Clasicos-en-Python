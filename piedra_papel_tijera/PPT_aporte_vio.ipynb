{
 "cells": [
  {
   "cell_type": "code",
   "execution_count": null,
   "id": "01450685",
   "metadata": {},
   "outputs": [],
   "source": []
  },
  {
   "cell_type": "code",
   "execution_count": null,
   "id": "19c4a54a",
   "metadata": {},
   "outputs": [],
   "source": []
  },
  {
   "cell_type": "code",
   "execution_count": 20,
   "id": "5e6d9533",
   "metadata": {},
   "outputs": [
    {
     "name": "stdout",
     "output_type": "stream",
     "text": [
      "Tú has elegido: piedra //  La máquina ha elegido: tijeras\n",
      "-----------------\n",
      " ganaste esta ronda\n",
      "-----------------\n",
      "Tu puntuación es: 1 // La puntucion de la máquina es: 0\n",
      "-----------------\n",
      "Tú has elegido: papel //  La máquina ha elegido: tijeras\n",
      "-----------------\n",
      "has perdido\n",
      "-----------------\n",
      "Tu puntuación es: 1 // La puntucion de la máquina es: 1\n",
      "-----------------\n",
      "Tú has elegido: papel //  La máquina ha elegido: tijeras\n",
      "-----------------\n",
      "has perdido\n",
      "-----------------\n",
      "Tu puntuación es: 1 // La puntucion de la máquina es: 2\n",
      "-----------------\n",
      "Tú has elegido: piedra //  La máquina ha elegido: tijeras\n",
      "-----------------\n",
      " ganaste esta ronda\n",
      "-----------------\n",
      "Tu puntuación es: 2 // La puntucion de la máquina es: 2\n",
      "-----------------\n",
      "Tú has elegido: papel //  La máquina ha elegido: tijeras\n",
      "-----------------\n",
      "has perdido\n",
      "-----------------\n",
      "Tu puntuación es: 2 // La puntucion de la máquina es: 3\n",
      "-----------------\n",
      "perdiste la patida\n"
     ]
    }
   ],
   "source": [
    "import random \n",
    "#las reglas del siguiente juego son : \n",
    "#\"piedra vence a tijera, papel vence a pieda, tigeras vence a papel\"\n",
    "reglas = {\"piedra\": \"tijeras\", \"papel\": \"piedra\", \"tijeras\": \"papel\"}\n",
    "opciones = list(reglas.keys())\n",
    "#la key () siempre siempre va a ganar al valor \n",
    "#usuaria = input(opciones).lower()\n",
    "#maquina = random.choice(opciones)\n",
    "\n",
    "\n",
    "contador_usuaria = 0\n",
    "contador_maquina = 0 \n",
    "\n",
    "#Número_de_rondas = 3 esto es si usamos un bucle FOR para ir restando en vez de hacerlo con un \"while\" entonces sería \n",
    "#for i in range (número de rondas)\n",
    "\n",
    "while contador_usuaria < 3 and contador_maquina < 3:\n",
    "    \n",
    "    try:\n",
    "        usuaria = input(opciones)\n",
    "        maquina = random.choice(opciones)\n",
    "        print(f\"Tú has elegido: {usuaria} //  La máquina ha elegido: {maquina}\") \n",
    "        print(\"-----------------\")   # he añadido esto porque sino, no sabiamos nunca lo que elegia la máquina \n",
    "        if usuaria == maquina:\n",
    "            print(\"EMPATE, VUELVE A INTENTARLO\")\n",
    "            print(\"-----------------\")  \n",
    "#hasta aquí todo ok\n",
    "\n",
    "##  Métodos Adicionales para Obtener TODOS los Valores\n",
    "## Si su objetivo es obtener todos los valores presentes en el diccionario, independientemente de la clave:\n",
    "        elif reglas[usuaria] == maquina:\n",
    "            print(\" ganaste esta ronda\")\n",
    "            print(\"-----------------\")  \n",
    "            contador_usuaria += 1\n",
    "        \n",
    "        else:\n",
    "            # maquina == reglas[usuaria]: he quitado esto porque si no es empate y tampoco he ganado es que la maquina ha ganado\n",
    "            print (\"has perdido\")\n",
    "            print(\"-----------------\")\n",
    "            contador_maquina += 1\n",
    "        #print(\"la puntiacion de la maquina es:\", (contador_maquina))\n",
    "        #print(\"tu puntuación es:\", (contador_usuaria))\n",
    "        print(f\"Tu puntuación es: {contador_usuaria} // La puntucion de la máquina es: {contador_maquina}\")\n",
    "        print(\"-----------------\")  \n",
    "\n",
    "          \n",
    "    except Exception as e: \n",
    "        print(\"algo he liado\", e)\n",
    "        break\n",
    "if contador_usuaria > contador_maquina: \n",
    "    print(\"ganaste la partiga \")\n",
    "elif contador_usuaria < contador_maquina:\n",
    "    print(\"perdiste la patida\")"
   ]
  },
  {
   "cell_type": "code",
   "execution_count": null,
   "id": "d02afd79",
   "metadata": {},
   "outputs": [],
   "source": []
  }
 ],
 "metadata": {
  "kernelspec": {
   "display_name": "Python 3",
   "language": "python",
   "name": "python3"
  },
  "language_info": {
   "codemirror_mode": {
    "name": "ipython",
    "version": 3
   },
   "file_extension": ".py",
   "mimetype": "text/x-python",
   "name": "python",
   "nbconvert_exporter": "python",
   "pygments_lexer": "ipython3",
   "version": "3.13.7"
  }
 },
 "nbformat": 4,
 "nbformat_minor": 5
}
