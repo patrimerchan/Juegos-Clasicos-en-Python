{
 "cells": [
  {
   "cell_type": "code",
   "execution_count": null,
   "id": "5e6d9533",
   "metadata": {},
   "outputs": [
    {
     "name": "stdout",
     "output_type": "stream",
     "text": [
      "tijera\n",
      "estoy en el while\n",
      " ganaste esta ronda\n",
      "la puntiacion de la maquina es: 0\n",
      "tu puntuación es: 1\n",
      "estoy en el while\n",
      "has perdido\n",
      "la puntiacion de la maquina es: 1\n",
      "tu puntuación es: 1\n",
      "estoy en el while\n",
      " ganaste esta ronda\n",
      "la puntiacion de la maquina es: 1\n",
      "tu puntuación es: 2\n",
      "estoy en el while\n",
      "algo he liado 'tijeras'\n"
     ]
    }
   ],
   "source": [
    "import random \n",
    "#las reglas del siguiente juego son : \n",
    "#\"piedra vence a tijera, papel vence a pieda, tigeras vence a papel\"\n",
    "reglas = {\"piedra\": \"tijeras\", \"papel\": \"piedra\", \"tijeras\": \"papel\"}\n",
    "opciones = list(reglas.keys())\n",
    "#la key () siempre siempre va a ganar al valor \n",
    "#usuaria = input(opciones).lower()\n",
    "#maquina = random.choice(opciones)\n",
    "print(maquina)\n",
    "\n",
    "contador_usuaria = 0\n",
    "contador_maquina = 0 \n",
    "\n",
    "while contador_usuaria < 3 and contador_maquina < 3:\n",
    "    print(\"estoy en el while\")\n",
    "\n",
    "    try:\n",
    "        usuaria = input(opciones)\n",
    "        maquina = random.choice(opciones)\n",
    "        if usuaria == maquina:\n",
    "            print(\"EMPATE, VUELVE A INTENTARLO\")\n",
    "#hasta aquí todo ok\n",
    "\n",
    "##  Métodos Adicionales para Obtener TODOS los Valores\n",
    "## Si su objetivo es obtener todos los valores presentes en el diccionario, independientemente de la clave:\n",
    "## Método .values(): Este método devuelve una vista (dict_values) que contiene todos los valores del diccionario. Es útil si necesita iterar sobre todos los valores.\n",
    "## Método .items(): Este método devuelve una vista (dict_items) que contiene una lista de tuplas, donde cada tupla es un par de (clave, valor). Esto es especialmente útil para iterar sobre ambos, la clave y el valor, usando un bucle for\n",
    "\n",
    "        elif maquina  == reglas[usuaria]:\n",
    "            print(\" ganaste esta ronda\")\n",
    "            contador_usuaria += 1\n",
    "        \n",
    "        else:\n",
    "            reglas[usuaria] == maquina\n",
    "            print (\"has perdido\")\n",
    "            contador_maquina += 1\n",
    "        print(\"la puntiacion de la maquina es:\", (contador_maquina))\n",
    "        print(\"tu puntuación es:\", (contador_usuaria))\n",
    "\n",
    "             #habría que desarrollar como gana la usuaria a la makinita e ir cambiando el contador para el elise y que pare de contar y entre en un bucle\n",
    "\n",
    "    except Exception as e: \n",
    "        print(\"algo he liado\", e)\n",
    "        break"
   ]
  },
  {
   "cell_type": "code",
   "execution_count": null,
   "id": "d02afd79",
   "metadata": {},
   "outputs": [],
   "source": []
  }
 ],
 "metadata": {
  "kernelspec": {
   "display_name": "Python 3",
   "language": "python",
   "name": "python3"
  },
  "language_info": {
   "codemirror_mode": {
    "name": "ipython",
    "version": 3
   },
   "file_extension": ".py",
   "mimetype": "text/x-python",
   "name": "python",
   "nbconvert_exporter": "python",
   "pygments_lexer": "ipython3",
   "version": "3.13.7"
  }
 },
 "nbformat": 4,
 "nbformat_minor": 5
}
