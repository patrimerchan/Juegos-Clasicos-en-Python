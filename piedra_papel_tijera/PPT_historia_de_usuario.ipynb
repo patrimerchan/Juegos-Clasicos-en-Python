{
 "cells": [
  {
   "cell_type": "markdown",
   "id": "80dd7381",
   "metadata": {},
   "source": [
    "## Historia de usuario: Piedra Papel Tijeras"
   ]
  },
  {
   "cell_type": "markdown",
   "id": "46a630ff",
   "metadata": {},
   "source": [
    "• Objetivo: \"Como estudiante de Python, quiero desarrollar el código para el juego 'Piedra, Papel o Tijera' para una empresa de videojuegos, con el fin de consolidar mis conocimientos de Python y cumplir con los requisitos del proyecto\". "
   ]
  },
  {
   "cell_type": "markdown",
   "id": "fc7fbb53",
   "metadata": {},
   "source": [
    "\n",
    "• Descripción: Explicación breve sobre qué consiste la tarea:"
   ]
  },
  {
   "cell_type": "markdown",
   "id": "409b4ef2",
   "metadata": {},
   "source": [
    "- Programar en Python la lógica completa del juego 'Piedra, Papel o Tijera'. \n",
    "- Se debe crear una interfaz para que el usuario pueda jugar, gestionar las rondas y determinar un ganador. \n",
    "- El código debe estar bien estructurado y ser parte de una clase que contenga la lógica de los juegos, tal y como lo solicita el cliente."
   ]
  },
  {
   "cell_type": "markdown",
   "id": "5aa4e88d",
   "metadata": {},
   "source": [
    "• Criterios de Aceptación: Esta es la parte más importante. Definición de condiciones que deben cumplirse para considerar que el juego está terminado:"
   ]
  },
  {
   "cell_type": "markdown",
   "id": "6cc57e12",
   "metadata": {},
   "source": [
    "- El usuario debe poder elegir entre \"Piedra\", \"Papel\" o \"Tijera\".\n",
    "- La máquina (el oponente) debe hacer su elección de forma aleatoria.\n",
    "- El programa debe aplicar correctamente las reglas del juego (Piedra gana a Tijera, Tijera a Papel, Papel a Piedra).\n",
    "- El juego debe informar del resultado de cada ronda (victoria, derrota o empate).\n",
    "- El juego debe llevar la cuenta de las rondas ganadas y anunciar un ganador final.\n",
    "- Todo el proceso debe estar automatizado en funciones y/o clases.\n",
    "- El código final debe estar subido al repositorio de GitHub del equipo."
   ]
  }
 ],
 "metadata": {
  "language_info": {
   "name": "python"
  }
 },
 "nbformat": 4,
 "nbformat_minor": 5
}
