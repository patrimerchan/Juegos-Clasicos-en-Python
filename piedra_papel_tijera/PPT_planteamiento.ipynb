{
 "cells": [
  {
   "cell_type": "markdown",
   "id": "3f51474d",
   "metadata": {},
   "source": [
    "# Piedra Papel Tijera"
   ]
  },
  {
   "cell_type": "markdown",
   "id": "0b602926",
   "metadata": {},
   "source": [
    "Piedra Papel o Tijera: este es un juego clásico en el que dos jugadores seleccionan una de tres opciones: Piedra, Papel o Tijera. Cada opción tiene una relación de victoria diferente: la Piedra vence a la Tijera, la Tijera vence al Papel y el Papel vence a la Piedra. El objetivo del juego es elegir la opción que vencerá a la opción seleccionada por el oponente. El juego se juega en rondas y el jugador que gana más rondas es el ganador del juego."
   ]
  },
  {
   "cell_type": "markdown",
   "id": "ea1e553e",
   "metadata": {},
   "source": [
    "## Reglas del Juego \"Piedra, Papel y Tijera\":"
   ]
  },
  {
   "cell_type": "markdown",
   "id": "300cf20c",
   "metadata": {},
   "source": [
    "Dos jugadores eligen una de las tres opciones: \"Piedra\", \"Papel\" o \"Tijera\".\n",
    "\n",
    "Las reglas para determinar al ganador son:\n",
    "\n",
    "Piedra vence a Tijera.\n",
    "\n",
    "Tijera vence a Papel.\n",
    "\n",
    "Papel vence a Piedra.\n",
    "\n",
    "El jugador que gana una ronda obtiene un punto.\n",
    "\n",
    "El juego continúa hasta que un jugador haya acumulado 3 puntos, convirtiéndose en el ganador.\n",
    "\n",
    "Pistas para las alumnas:\n",
    "\n",
    "Comienza por definir el número de puntos objetivo que se deben alcanzar para ganar el juego.\n",
    "\n",
    "Implementa una función que obtenga la elección del jugador y valide que sea una de las opciones válidas (\"Piedra\", \"Papel\" o \"Tijera\").\n",
    "\n",
    "Utiliza un bucle while para llevar un registro de los puntos de cada jugador y continuar el juego hasta que se alcance el número de puntos objetivo.\n",
    "\n",
    "Genera una elección aleatoria para el segundo jugador (la computadora) utilizando el módulo random.\n",
    "\n",
    "Determina al ganador de cada ronda y actualiza los puntos correspondientes.\n",
    "\n",
    "Verifica si algún jugador ha alcanzado el número de puntos objetivo y finalicen el juego cuando eso suceda."
   ]
  }
 ],
 "metadata": {
  "language_info": {
   "name": "python"
  }
 },
 "nbformat": 4,
 "nbformat_minor": 5
}
