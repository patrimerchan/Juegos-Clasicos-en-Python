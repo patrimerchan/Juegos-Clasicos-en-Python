{
 "cells": [
  {
   "cell_type": "markdown",
   "id": "54b06f56",
   "metadata": {},
   "source": [
    "# Pseudo-Código"
   ]
  },
  {
   "cell_type": "markdown",
   "id": "9b15a958",
   "metadata": {},
   "source": [
    "- Dos contra dos\n",
    "- Tener 3 variables:\n",
    "    papel = 'papel'\n",
    "    piedra = \n",
    "    tijera\n",
    "- opciones = ['piedra, 'papel',tijera]\n",
    "piedra > tijeras , tijeras > papel , papel > piedra\n",
    "\n",
    "- usaremos input()\n",
    "- usar condicionales"
   ]
  },
  {
   "cell_type": "code",
   "execution_count": null,
   "id": "8738a0da",
   "metadata": {},
   "outputs": [],
   "source": []
  },
  {
   "cell_type": "code",
   "execution_count": null,
   "id": "5581eba1",
   "metadata": {},
   "outputs": [],
   "source": [
    "if input() in (opciones)\n",
    "\n",
    "else :\n",
    "    no esta"
   ]
  }
 ],
 "metadata": {
  "language_info": {
   "name": "python"
  }
 },
 "nbformat": 4,
 "nbformat_minor": 5
}
