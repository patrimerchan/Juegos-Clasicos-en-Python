{
 "cells": [
  {
   "cell_type": "markdown",
   "id": "03c969ea",
   "metadata": {},
   "source": [
    "# Piedra, papel, tijera"
   ]
  },
  {
   "cell_type": "markdown",
   "id": "3298a570",
   "metadata": {},
   "source": [
    "### CÓDIGO PYTHON"
   ]
  },
  {
   "cell_type": "code",
   "execution_count": null,
   "id": "555bc3e1",
   "metadata": {},
   "outputs": [
    {
     "name": "stdout",
     "output_type": "stream",
     "text": [
      "🎮 ¡Bienvenida al juego Piedra 🪨, Papel 📄 o Tijeras ✂️!\n",
      "Primera en llegar a 3 puntos gana.\n",
      "--------------------------------------------------------------\n",
      " Tú has elegido: papel 📄 //  La máquina ha elegido: tijeras ✂️\n",
      "--------------\n",
      "💀 Has perdido\n",
      "--------------\n",
      "🏁 Tu puntuación es: 0 // La puntución de la máquina es: 1\n",
      "--------------------------------------------------------------\n",
      " Tú has elegido: piedra 🪨 //  La máquina ha elegido: tijeras ✂️\n",
      "--------------\n",
      "🎉 ¡Ganaste esta ronda!\n",
      "--------------\n",
      "🏁 Tu puntuación es: 1 // La puntución de la máquina es: 1\n",
      "--------------------------------------------------------------\n",
      " Tú has elegido: piedra 🪨 //  La máquina ha elegido: papel 📄\n",
      "--------------\n",
      "💀 Has perdido\n",
      "--------------\n",
      "🏁 Tu puntuación es: 1 // La puntución de la máquina es: 2\n",
      "--------------------------------------------------------------\n",
      " Tú has elegido: tijeras ✂️ //  La máquina ha elegido: papel 📄\n",
      "--------------\n",
      "🎉 ¡Ganaste esta ronda!\n",
      "--------------\n",
      "🏁 Tu puntuación es: 2 // La puntución de la máquina es: 2\n",
      "--------------------------------------------------------------\n",
      " Tú has elegido: tijeras ✂️ //  La máquina ha elegido: piedra 🪨\n",
      "--------------\n",
      "💀 Has perdido\n",
      "--------------\n",
      "🏁 Tu puntuación es: 2 // La puntución de la máquina es: 3\n",
      "--------------------------------------------------------------\n",
      "😢 PERDISTE LA PARTIDA. 😢\n"
     ]
    }
   ],
   "source": [
    "import random \n",
    "#las reglas del siguiente juego son : \n",
    "#\"piedra vence a tijeras, papel vence a pieda, tijeras vence a papel\"\n",
    "reglas = {\"piedra\": \"tijeras\", \"papel\": \"piedra\", \"tijeras\": \"papel\"}\n",
    "opciones = list(reglas.keys())\n",
    "#la key () siempre siempre va a ganar al valor \n",
    "emojis = {\"piedra\": \"🪨\", \"papel\": \"📄\", \"tijeras\": \"✂️\"} # Diccionario con emojis\n",
    "\n",
    "#usuaria = input(opciones).lower()\n",
    "#maquina = random.choice(opciones)\n",
    "\n",
    "contador_usuaria = 0\n",
    "contador_maquina = 0 \n",
    "\n",
    "def separador_medio():\n",
    "    print(\"---------------\")\n",
    "def separador_largo():\n",
    "    print(\"--------------------------------------------------------------\")\n",
    "\n",
    "print(\"🎮 ¡Bienvenida al juego Piedra 🪨, Papel 📄 o Tijeras ✂️!\")\n",
    "print(\"Primera en llegar a 3 puntos gana.\")\n",
    "separador_largo()\n",
    "\n",
    "#Número_de_rondas = 3 esto es si usamos un bucle FOR para ir restando en vez de hacerlo con un \"while\" entonces sería \n",
    "#for i in range (número de rondas)\n",
    "\n",
    "while contador_usuaria < 3 and contador_maquina < 3:\n",
    "    \n",
    "    try:\n",
    "        usuaria = input(f\"Elige una opción {opciones}: \").lower().strip()\n",
    "        maquina = random.choice(opciones)\n",
    "\n",
    "        # Verificar que la entrada sea válida\n",
    "        if usuaria not in opciones:\n",
    "            print(\"❌ Opción no válida. Vuelve a intentarlo con piedra, papel o tijeras.\")\n",
    "            separador_medio()\n",
    "            continue\n",
    "\n",
    "        print(f\" Tú has elegido: {usuaria} {emojis[usuaria]} //  La máquina ha elegido: {maquina} {emojis[maquina]}\")  # Se añade para saber lo que elige la máquina \n",
    "        separador_medio()   \n",
    "        if usuaria == maquina:\n",
    "            print(\"😐 Empate, vuelve a intentarlo\")\n",
    "            separador_medio()  \n",
    "\n",
    "##  Métodos Adicionales para Obtener TODOS los Valores\n",
    "## Si su objetivo es obtener todos los valores presentes en el diccionario, independientemente de la clave:\n",
    "\n",
    "        elif reglas[usuaria] == maquina:\n",
    "            print(\"🎉 ¡Ganaste esta ronda!\")\n",
    "            separador_medio()  \n",
    "            contador_usuaria += 1\n",
    "        \n",
    "        else:\n",
    "            # maquina == reglas[usuaria]: he quitado esto porque si no es empate y tampoco he ganado es que la maquina ha ganado\n",
    "            print (\"💀 Has perdido\")\n",
    "            separador_medio()\n",
    "            contador_maquina += 1\n",
    "        #print(\"la puntuación de la máquina es:\", (contador_maquina))\n",
    "        #print(\"tu puntuación es:\", (contador_usuaria))\n",
    "        print(f\"🏁 Tu puntuación es: {contador_usuaria} // La puntución de la máquina es: {contador_maquina}\")\n",
    "        separador_largo()  \n",
    "\n",
    "          \n",
    "    except Exception as e: \n",
    "        print(\"⚠️ Ocurrió un error:\", e)\n",
    "        break\n",
    "if contador_usuaria > contador_maquina: \n",
    "    print(\"🏆 ¡GANASTE LA PARTIDA! 🏆\")\n",
    "elif contador_usuaria < contador_maquina:\n",
    "    print(\"😢 PERDISTE LA PARTIDA 😢\")"
   ]
  },
  {
   "cell_type": "code",
   "execution_count": null,
   "id": "91c84746",
   "metadata": {},
   "outputs": [],
   "source": []
  }
 ],
 "metadata": {
  "kernelspec": {
   "display_name": "Python 3",
   "language": "python",
   "name": "python3"
  },
  "language_info": {
   "codemirror_mode": {
    "name": "ipython",
    "version": 3
   },
   "file_extension": ".py",
   "mimetype": "text/x-python",
   "name": "python",
   "nbconvert_exporter": "python",
   "pygments_lexer": "ipython3",
   "version": "3.13.7"
  }
 },
 "nbformat": 4,
 "nbformat_minor": 5
}
