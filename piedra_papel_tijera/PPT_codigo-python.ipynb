{
 "cells": [
  {
   "cell_type": "markdown",
   "id": "03c969ea",
   "metadata": {},
   "source": [
    "# Piedra, papel, tijera"
   ]
  },
  {
   "cell_type": "markdown",
   "id": "3298a570",
   "metadata": {},
   "source": [
    "### Código Python"
   ]
  },
  {
   "cell_type": "code",
   "execution_count": null,
   "id": "555bc3e1",
   "metadata": {},
   "outputs": [],
   "source": [
    "import random\n",
    "usuaria = input.lower('Escoge: Piedra, Papel o Tijeras')\n",
    "maquina = random('piedra', 'papel', 'tijera')\n",
    "\n",
    "if usuaria in (opciones)\n",
    "\n",
    "else :\n",
    "    print('no está')"
   ]
  },
  {
   "cell_type": "code",
   "execution_count": null,
   "id": "4851f1f6",
   "metadata": {},
   "outputs": [],
   "source": [
    "import random\n",
    "opciones = ['piedra', 'papel', 'tijera']\n",
    "print(random.choice(opciones))"
   ]
  }
 ],
 "metadata": {
  "language_info": {
   "name": "python"
  }
 },
 "nbformat": 4,
 "nbformat_minor": 5
}
