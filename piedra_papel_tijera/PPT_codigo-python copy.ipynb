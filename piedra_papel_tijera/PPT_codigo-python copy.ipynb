{
 "cells": [
  {
   "cell_type": "markdown",
   "id": "03c969ea",
   "metadata": {},
   "source": [
    "# Piedra, papel, tijera"
   ]
  },
  {
   "cell_type": "markdown",
   "id": "3298a570",
   "metadata": {},
   "source": [
    "### Código Python"
   ]
  },
  {
   "cell_type": "code",
   "execution_count": 4,
   "id": "555bc3e1",
   "metadata": {},
   "outputs": [
    {
     "name": "stdout",
     "output_type": "stream",
     "text": [
      "papel\n"
     ]
    }
   ],
   "source": [
    "import random\n",
    "opciones = ['piedra', 'papel', 'tijera']\n",
    "usuaria = input('Escoge: Piedra, Papel o Tijeras').lower\n",
    "maquina = random.choice(opciones)\n",
    "print(maquina) # se puede quitar, sirve para ver qué ha elegido la máquina\n",
    "contador_usuaria = 0\n",
    "contador_maquina = 0\n",
    "\n",
    "while contador_usuaria < 3 or contador_maquina < 3 :\n",
    "    \n",
    "    if usuaria == maquina :\n",
    "        print('Empate')\n",
    "        usuaria = input('Escoge: Piedra, Papel o Tijeras').lower\n",
    "        maquina = random.choice(opciones)\n",
    "\n",
    "    else :\n",
    "        break\n",
    "\n",
    "    "
   ]
  },
  {
   "cell_type": "code",
   "execution_count": null,
   "id": "0a6c66c0",
   "metadata": {},
   "outputs": [],
   "source": [
    "else :\n",
    "        usuaria = input('Escoge: Piedra, Papel o Tijeras').lower\n",
    "        maquina = random.choice(opciones)\n",
    "        \n",
    "        if usuaria == 'piedra' and maquina == 'papel':\n",
    "            contador_maquina += 1\n",
    "            print('Gana 1 punto la máquina')\n",
    "\n",
    "        elif usuaria == 'piedra' and maquina == 'tijeras' :\n",
    "            contador_usuaria += 1\n",
    "            print('Gana 1 punto la usuaria')\n",
    "\n",
    "        elif usuaria == 'papel' and maquina == 'piedra':\n",
    "            contador_usuaria += 1\n",
    "            print('Gana 1 punto la usuaria')\n",
    "\n",
    "        elif usuaria == 'papel' and maquina == 'tijeras' :\n",
    "            contador_maquina += 1\n",
    "            print('Gana 1 punto la máquina')\n",
    "\n",
    "        elif usuaria == 'tijera' and maquina == 'piedra':\n",
    "            contador_maquina += 1\n",
    "            print('Gana 1 punto la maquina')\n",
    "\n",
    "        elif usuaria == 'tijera' and maquina == 'papel' :\n",
    "            contador_usuaria += 1\n",
    "            print('Gana 1 punto la usuaria')"
   ]
  }
 ],
 "metadata": {
  "kernelspec": {
   "display_name": "Python 3",
   "language": "python",
   "name": "python3"
  },
  "language_info": {
   "codemirror_mode": {
    "name": "ipython",
    "version": 3
   },
   "file_extension": ".py",
   "mimetype": "text/x-python",
   "name": "python",
   "nbconvert_exporter": "python",
   "pygments_lexer": "ipython3",
   "version": "3.13.7"
  }
 },
 "nbformat": 4,
 "nbformat_minor": 5
}
