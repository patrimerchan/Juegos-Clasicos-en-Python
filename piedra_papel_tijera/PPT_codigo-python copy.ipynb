{
 "cells": [
  {
   "cell_type": "markdown",
   "id": "03c969ea",
   "metadata": {},
   "source": [
    "# Piedra, papel, tijera"
   ]
  },
  {
   "cell_type": "markdown",
   "id": "3298a570",
   "metadata": {},
   "source": [
    "### Código Python"
   ]
  },
  {
   "cell_type": "code",
   "execution_count": 1,
   "id": "65ebf58e",
   "metadata": {},
   "outputs": [
    {
     "name": "stdout",
     "output_type": "stream",
     "text": [
      "papel\n",
      "Gana 1 punto la máquina, tiene 1 puntos\n",
      "gano uno\n",
      "Empate\n",
      "gano uno\n",
      "Gana 1 punto la máquina, tiene 2 puntos\n",
      "gano uno\n",
      "Empate\n",
      "gano uno\n",
      "Empate\n",
      "gano uno\n",
      "Empate\n",
      "gano uno\n",
      "Empate\n",
      "gano uno\n",
      "Gana 1 punto la usuaria tiene 2 puntos\n",
      "gano uno\n",
      "Empate\n",
      "gano uno\n"
     ]
    },
    {
     "ename": "KeyboardInterrupt",
     "evalue": "Interrupted by user",
     "output_type": "error",
     "traceback": [
      "\u001b[31m---------------------------------------------------------------------------\u001b[39m",
      "\u001b[31mKeyboardInterrupt\u001b[39m                         Traceback (most recent call last)",
      "\u001b[36mCell\u001b[39m\u001b[36m \u001b[39m\u001b[32mIn[1]\u001b[39m\u001b[32m, line 10\u001b[39m\n\u001b[32m      7\u001b[39m contador_maquina = \u001b[32m0\u001b[39m\n\u001b[32m      9\u001b[39m \u001b[38;5;28;01mwhile\u001b[39;00m contador_usuaria < \u001b[32m3\u001b[39m \u001b[38;5;129;01mand\u001b[39;00m contador_maquina < \u001b[32m3\u001b[39m :\n\u001b[32m---> \u001b[39m\u001b[32m10\u001b[39m     usuaria = \u001b[38;5;28;43minput\u001b[39;49m\u001b[43m(\u001b[49m\u001b[33;43m'\u001b[39;49m\u001b[33;43mEscoge: Piedra, Papel o Tijeras\u001b[39;49m\u001b[33;43m'\u001b[39;49m\u001b[43m)\u001b[49m.lower()\n\u001b[32m     11\u001b[39m     maquina = random.choice(opciones)\n\u001b[32m     13\u001b[39m     \u001b[38;5;28;01mif\u001b[39;00m usuaria == maquina :\n",
      "\u001b[36mFile \u001b[39m\u001b[32m~\\AppData\\Roaming\\Python\\Python313\\site-packages\\ipykernel\\kernelbase.py:1275\u001b[39m, in \u001b[36mKernel.raw_input\u001b[39m\u001b[34m(self, prompt)\u001b[39m\n\u001b[32m   1273\u001b[39m     msg = \u001b[33m\"\u001b[39m\u001b[33mraw_input was called, but this frontend does not support input requests.\u001b[39m\u001b[33m\"\u001b[39m\n\u001b[32m   1274\u001b[39m     \u001b[38;5;28;01mraise\u001b[39;00m StdinNotImplementedError(msg)\n\u001b[32m-> \u001b[39m\u001b[32m1275\u001b[39m \u001b[38;5;28;01mreturn\u001b[39;00m \u001b[38;5;28;43mself\u001b[39;49m\u001b[43m.\u001b[49m\u001b[43m_input_request\u001b[49m\u001b[43m(\u001b[49m\n\u001b[32m   1276\u001b[39m \u001b[43m    \u001b[49m\u001b[38;5;28;43mstr\u001b[39;49m\u001b[43m(\u001b[49m\u001b[43mprompt\u001b[49m\u001b[43m)\u001b[49m\u001b[43m,\u001b[49m\n\u001b[32m   1277\u001b[39m \u001b[43m    \u001b[49m\u001b[38;5;28;43mself\u001b[39;49m\u001b[43m.\u001b[49m\u001b[43m_parent_ident\u001b[49m\u001b[43m[\u001b[49m\u001b[33;43m\"\u001b[39;49m\u001b[33;43mshell\u001b[39;49m\u001b[33;43m\"\u001b[39;49m\u001b[43m]\u001b[49m\u001b[43m,\u001b[49m\n\u001b[32m   1278\u001b[39m \u001b[43m    \u001b[49m\u001b[38;5;28;43mself\u001b[39;49m\u001b[43m.\u001b[49m\u001b[43mget_parent\u001b[49m\u001b[43m(\u001b[49m\u001b[33;43m\"\u001b[39;49m\u001b[33;43mshell\u001b[39;49m\u001b[33;43m\"\u001b[39;49m\u001b[43m)\u001b[49m\u001b[43m,\u001b[49m\n\u001b[32m   1279\u001b[39m \u001b[43m    \u001b[49m\u001b[43mpassword\u001b[49m\u001b[43m=\u001b[49m\u001b[38;5;28;43;01mFalse\u001b[39;49;00m\u001b[43m,\u001b[49m\n\u001b[32m   1280\u001b[39m \u001b[43m\u001b[49m\u001b[43m)\u001b[49m\n",
      "\u001b[36mFile \u001b[39m\u001b[32m~\\AppData\\Roaming\\Python\\Python313\\site-packages\\ipykernel\\kernelbase.py:1320\u001b[39m, in \u001b[36mKernel._input_request\u001b[39m\u001b[34m(self, prompt, ident, parent, password)\u001b[39m\n\u001b[32m   1317\u001b[39m \u001b[38;5;28;01mexcept\u001b[39;00m \u001b[38;5;167;01mKeyboardInterrupt\u001b[39;00m:\n\u001b[32m   1318\u001b[39m     \u001b[38;5;66;03m# re-raise KeyboardInterrupt, to truncate traceback\u001b[39;00m\n\u001b[32m   1319\u001b[39m     msg = \u001b[33m\"\u001b[39m\u001b[33mInterrupted by user\u001b[39m\u001b[33m\"\u001b[39m\n\u001b[32m-> \u001b[39m\u001b[32m1320\u001b[39m     \u001b[38;5;28;01mraise\u001b[39;00m \u001b[38;5;167;01mKeyboardInterrupt\u001b[39;00m(msg) \u001b[38;5;28;01mfrom\u001b[39;00m\u001b[38;5;250m \u001b[39m\u001b[38;5;28;01mNone\u001b[39;00m\n\u001b[32m   1321\u001b[39m \u001b[38;5;28;01mexcept\u001b[39;00m \u001b[38;5;167;01mException\u001b[39;00m:\n\u001b[32m   1322\u001b[39m     \u001b[38;5;28mself\u001b[39m.log.warning(\u001b[33m\"\u001b[39m\u001b[33mInvalid Message:\u001b[39m\u001b[33m\"\u001b[39m, exc_info=\u001b[38;5;28;01mTrue\u001b[39;00m)\n",
      "\u001b[31mKeyboardInterrupt\u001b[39m: Interrupted by user"
     ]
    }
   ],
   "source": [
    "import random\n",
    "opciones = ['piedra', 'papel', 'tijera']\n",
    "usuaria = input('Escoge: Piedra, Papel o Tijeras').lower()\n",
    "maquina = random.choice(opciones)\n",
    "print(maquina) # se puede quitar, sirve para ver qué ha elegido la máquina\n",
    "contador_usuaria = 0\n",
    "contador_maquina = 0\n",
    "\n",
    "while contador_usuaria < 3 and contador_maquina < 3 :\n",
    "    usuaria = input('Escoge: Piedra, Papel o Tijeras').lower()\n",
    "    maquina = random.choice(opciones)\n",
    "    \n",
    "    if usuaria == maquina :\n",
    "        print('Empate')\n",
    "\n",
    "    else :\n",
    "        \n",
    "        if usuaria == 'piedra' and maquina == 'papel':\n",
    "            contador_maquina += 1\n",
    "            print(f'Gana 1 punto la máquina, tiene {contador_maquina} puntos')\n",
    "\n",
    "        elif usuaria == 'piedra' and maquina == 'tijeras' :\n",
    "            contador_usuaria += 1\n",
    "            print(f'Gana 1 punto la usuaria tiene {contador_maquina} puntos')\n",
    "\n",
    "        elif usuaria == 'papel' and maquina == 'piedra':\n",
    "            contador_usuaria += 1\n",
    "            print(f'Gana 1 punto la usuaria tiene {contador_usuaria} puntos')\n",
    "\n",
    "        elif usuaria == 'papel' and maquina == 'tijeras' :\n",
    "            contador_maquina += 1\n",
    "            print(f'Gana 1 punto la máquina tiene {contador_maquina} puntos')\n",
    "\n",
    "        elif usuaria == 'tijera' and maquina == 'piedra':\n",
    "            contador_maquina += 1\n",
    "            print(f'Gana 1 punto la maquina tiene {contador_maquina} puntos')\n",
    "\n",
    "        elif usuaria == 'tijera' and maquina == 'papel' :\n",
    "            contador_usuaria += 1\n",
    "            print(f'Gana 1 punto la usuaria tiene {contador_maquina} puntos')\n",
    "\n",
    "    print('gano uno')"
   ]
  }
 ],
 "metadata": {
  "kernelspec": {
   "display_name": "Python 3",
   "language": "python",
   "name": "python3"
  },
  "language_info": {
   "codemirror_mode": {
    "name": "ipython",
    "version": 3
   },
   "file_extension": ".py",
   "mimetype": "text/x-python",
   "name": "python",
   "nbconvert_exporter": "python",
   "pygments_lexer": "ipython3",
   "version": "3.13.7"
  }
 },
 "nbformat": 4,
 "nbformat_minor": 5
}
