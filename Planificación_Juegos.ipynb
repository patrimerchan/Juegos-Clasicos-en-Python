{
 "cells": [
  {
   "cell_type": "markdown",
   "id": "ae6b212a",
   "metadata": {},
   "source": [
    "# JUEGOS CLASICOS"
   ]
  },
  {
   "cell_type": "markdown",
   "id": "5f8f56dd",
   "metadata": {},
   "source": [
    "\n",
    "\n",
    "#### PLANIFICACIÓN"
   ]
  },
  {
   "cell_type": "markdown",
   "id": "a73d56de",
   "metadata": {},
   "source": [
    "#### Sprints\n",
    "- Estableceremos pequeños ciclos iterativos de forma que al final de cada uno generemos valor perceptible por nuestros usuarios.\n",
    "- Dedicaremos el primer día a la planificación del sprint (sprint planning) y el resto a trabajar en el desarrollo del proyecto.\n",
    "\n",
    "\n",
    "    - Sprint 1 - crear la infraestructura necesaria: repositorio en GitHub y con acceso para todos los miembros del equipo.\n",
    "\n",
    "    - Sprint 2 - repartir la creación de los juegos por pequeños grupos de trabajo.\n",
    "\n",
    "    - Sprint 3 - crear la lógica antes de crear en código en python.\n",
    "\n",
    "    - Sprint 4 - crear história de usuário.\n",
    "\n",
    "    - Sprint 5 - crear reglas del juego.\n",
    "\n",
    "    - Sprint 6 - crear el código en python: probar el código y hacer ajustes; presentar el código a los demás elementos del equipo y pedir feedback; usar el feedback del equipo y hacer ajustes si necesario.\n",
    "\n",
    "    - Sprint 7 - tener todos los juegos automatizados.\n",
    "\n",
    "    - Sprint 8 - tener en el repositorio de GitHub todo el código del desarrollo del proyecto.\n",
    "\n",
    "    - Sprint 9 - preparar presentación.\n",
    "\n",
    "    \n",
    "    "
   ]
  },
  {
   "cell_type": "markdown",
   "id": "acbfc37a",
   "metadata": {},
   "source": []
  }
 ],
 "metadata": {
  "language_info": {
   "name": "python"
  }
 },
 "nbformat": 4,
 "nbformat_minor": 5
}
